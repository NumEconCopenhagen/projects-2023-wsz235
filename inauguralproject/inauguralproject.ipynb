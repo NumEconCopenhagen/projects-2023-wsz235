{
 "cells": [
  {
   "cell_type": "markdown",
   "metadata": {},
   "source": [
    "# Inaugural Project"
   ]
  },
  {
   "attachments": {},
   "cell_type": "markdown",
   "metadata": {},
   "source": [
    "> **Note the following:** \n",
    "> 1. This is an example of how to structure your **inaugural project**.\n",
    "> 1. Remember the general advice on structuring and commenting your code\n",
    "> 1. The `inauguralproject.py` file includes a function which can be used multiple times in this notebook."
   ]
  },
  {
   "cell_type": "markdown",
   "metadata": {},
   "source": [
    "Imports and set magics:"
   ]
  },
  {
   "cell_type": "code",
   "execution_count": null,
   "metadata": {},
   "outputs": [],
   "source": [
    "from types import SimpleNamespace\n",
    "\n",
    "import numpy as np\n",
    "from scipy.optimize import minimize\n",
    "\n",
    "import pandas as pd \n",
    "import matplotlib.pyplot as plt\n",
    "\n",
    "# autoreload modules when code is run. Otherwise, python will not see recent changes. \n",
    "#%load_ext autoreload\n",
    "#%autoreload 2\n",
    "\n",
    "# import inauguralproject\n",
    "#import inauguralproject "
   ]
  },
  {
   "cell_type": "code",
   "execution_count": 5,
   "metadata": {},
   "outputs": [
    {
     "ename": "IndentationError",
     "evalue": "unexpected indent (4103128628.py, line 9)",
     "output_type": "error",
     "traceback": [
      "\u001b[0;36m  File \u001b[0;32m\"/var/folders/__/y1zwfmg97w56l4ffjlqcx5h00000gn/T/ipykernel_7303/4103128628.py\"\u001b[0;36m, line \u001b[0;32m9\u001b[0m\n\u001b[0;31m    def __init__(self):\u001b[0m\n\u001b[0m    ^\u001b[0m\n\u001b[0;31mIndentationError\u001b[0m\u001b[0;31m:\u001b[0m unexpected indent\n"
     ]
    }
   ],
   "source": [
    "\n",
    "from types import SimpleNamespace\n",
    "\n",
    "import numpy as np\n",
    "from scipy import optimize\n",
    "\n",
    "import pandas as pd \n",
    "import matplotlib.pyplot as plt\n",
    "\n",
    "    def __init__(self):\n",
    "        \"\"\" setup model \"\"\"\n",
    "\n",
    "        # a. create namespaces\n",
    "        par = self.par = SimpleNamespace()\n",
    "        sol = self.sol = SimpleNamespace()\n",
    "\n",
    "        # b. preferences\n",
    "        par.rho = 2.0\n",
    "        par.nu = 0.001\n",
    "        par.epsilon = 1.0\n",
    "        par.omega = 0.5 \n",
    "\n",
    "        # c. household production\n",
    "        par.alpha = 0.5\n",
    "        par.sigma = 1.0\n",
    "\n",
    "        # d. wages\n",
    "        par.wM = 1.0\n",
    "        par.wF = 1.0\n",
    "        par.wF_vec = np.linspace(0.8,1.2,5)\n",
    "\n",
    "        # e. targets\n",
    "        par.beta0_target = 0.4\n",
    "        par.beta1_target = -0.1\n",
    "\n",
    "        # f. solution\n",
    "        sol.LM_vec = np.zeros(par.wF_vec.size)\n",
    "        sol.HM_vec = np.zeros(par.wF_vec.size)\n",
    "        sol.LF_vec = np.zeros(par.wF_vec.size)\n",
    "        sol.HF_vec = np.zeros(par.wF_vec.size)\n",
    "\n",
    "        sol.beta0 = np.nan\n",
    "        sol.beta1 = np.nan\n",
    "\n",
    "    def calc_utility(self,LM,HM,LF,HF):\n",
    "        \"\"\" calculate utility \"\"\"\n",
    "\n",
    "        par = self.par\n",
    "        sol = self.sol\n",
    "\n",
    "        # a. consumption of market goods\n",
    "        C = par.wM*LM + par.wF*LF\n",
    "\n",
    "        # b. home production\n",
    "        H = HM**(1-par.alpha)*HF**par.alpha\n",
    "\n",
    "        # c. total consumption utility\n",
    "        Q = C**par.omega*H**(1-par.omega)\n",
    "        utility = np.fmax(Q,1e-8)**(1-par.rho)/(1-par.rho)\n",
    "\n",
    "        # d. disutlity of work\n",
    "        epsilon_ = 1+1/par.epsilon\n",
    "        TM = LM+HM\n",
    "        TF = LF+HF\n",
    "        disutility = par.nu*(TM**epsilon_/epsilon_+TF**epsilon_/epsilon_)\n",
    "        \n",
    "        return utility - disutility\n",
    "\n",
    "    def solve_discrete(self,do_print=False):\n",
    "        \"\"\" solve model discretely \"\"\"\n",
    "        \n",
    "        par = self.par\n",
    "        sol = self.sol\n",
    "        opt = SimpleNamespace()\n",
    "        \n",
    "        # a. all possible choices\n",
    "        x = np.linspace(0,24,49)\n",
    "        LM,HM,LF,HF = np.meshgrid(x,x,x,x) # all combinations\n",
    "    \n",
    "        LM = LM.ravel() # vector\n",
    "        HM = HM.ravel()\n",
    "        LF = LF.ravel()\n",
    "        HF = HF.ravel()\n",
    "\n",
    "        # b. calculate utility\n",
    "        u = self.calc_utility(LM,HM,LF,HF)\n",
    "    \n",
    "        # c. set to minus infinity if constraint is broken\n",
    "        I = (LM+HM > 24) | (LF+HF > 24) # | is \"or\"\n",
    "        u[I] = -np.inf\n",
    "    \n",
    "        # d. find maximizing argument\n",
    "        j = np.argmax(u)\n",
    "        \n",
    "        opt.LM = LM[j]\n",
    "        opt.HM = HM[j]\n",
    "        opt.LF = LF[j]\n",
    "        opt.HF = HF[j]\n",
    "\n",
    "        # e. print\n",
    "        if do_print:\n",
    "            for k,v in opt.__dict__.items():\n",
    "                print(f'{k} = {v:6.4f}')\n",
    "\n",
    "        return opt\n"
   ]
  },
  {
   "cell_type": "markdown",
   "metadata": {},
   "source": [
    "# Question 1"
   ]
  },
  {
   "cell_type": "markdown",
   "metadata": {},
   "source": [
    "**Explain how you solve the model**"
   ]
  },
  {
   "cell_type": "code",
   "execution_count": null,
   "metadata": {},
   "outputs": [],
   "source": [
    "import numpy as np\n",
    "import matplotlib.pyplot as plt\n",
    "\n",
    "alpha_values = np.linspace(0.25,0.75, 3)\n",
    "sigma_values = np.linspace(0.5,1.5, 3)\n",
    "\n",
    "fig = plt.figure()\n",
    "\n",
    "ax = fig.add_subplot(1,1,1,projection='3d')\n",
    "ax.plot_wireframe(alpha_values,sigma_values, H,edgecolor='black')\n",
    "\n",
    "\n",
    "\n",
    "\n",
    "# f. set labels and title\n",
    "ax.set_xlabel(\"alpha\")\n",
    "ax.set_ylabel(\"sigma\")\n",
    "ax.set_title(\"XX\")\n",
    "    \n",
    "# g. add legend\n",
    "ax.legend()\n",
    "\n",
    "# h. display plot\n",
    "plt.show()\n",
    "        "
   ]
  },
  {
   "cell_type": "markdown",
   "metadata": {},
   "source": [
    "# Question 2"
   ]
  },
  {
   "cell_type": "markdown",
   "metadata": {},
   "source": [
    "Explain your code and procedure"
   ]
  },
  {
   "cell_type": "code",
   "execution_count": null,
   "metadata": {},
   "outputs": [],
   "source": [
    "\n"
   ]
  },
  {
   "cell_type": "markdown",
   "metadata": {},
   "source": [
    "# Question 3"
   ]
  },
  {
   "cell_type": "markdown",
   "metadata": {},
   "source": [
    "Explain your code and procedure"
   ]
  },
  {
   "cell_type": "code",
   "execution_count": null,
   "metadata": {},
   "outputs": [],
   "source": [
    "# code"
   ]
  },
  {
   "cell_type": "markdown",
   "metadata": {},
   "source": [
    "ADD CONCISE CONLUSION."
   ]
  }
 ],
 "metadata": {
  "kernelspec": {
   "display_name": "base",
   "language": "python",
   "name": "python3"
  },
  "language_info": {
   "codemirror_mode": {
    "name": "ipython",
    "version": 3
   },
   "file_extension": ".py",
   "mimetype": "text/x-python",
   "name": "python",
   "nbconvert_exporter": "python",
   "pygments_lexer": "ipython3",
   "version": "3.9.13"
  },
  "toc-autonumbering": true,
  "vscode": {
   "interpreter": {
    "hash": "153d7f48fc2b2cac0ae68a71f7037e0d68cd6d9af7e2eb20d1cf2d67faf3bb7a"
   }
  }
 },
 "nbformat": 4,
 "nbformat_minor": 4
}
