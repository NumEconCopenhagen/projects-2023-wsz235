{
 "cells": [
  {
   "cell_type": "markdown",
   "metadata": {},
   "source": [
    "# Inaugural Project"
   ]
  },
  {
   "attachments": {},
   "cell_type": "markdown",
   "metadata": {},
   "source": [
    "> **Note the following:** \n",
    "> 1. This is an example of how to structure your **inaugural project**.\n",
    "> 1. Remember the general advice on structuring and commenting your code\n",
    "> 1. The `inauguralproject.py` file includes a function which can be used multiple times in this notebook."
   ]
  },
  {
   "cell_type": "markdown",
   "metadata": {},
   "source": [
    "Imports and set magics:"
   ]
  },
  {
   "cell_type": "code",
   "execution_count": null,
   "metadata": {},
   "outputs": [],
   "source": [
    "from types import SimpleNamespace\n",
    "import numpy as np\n",
    "from scipy import optimize\n",
    "import pandas as pd \n",
    "import matplotlib.pyplot as plt\n",
    "import math\n",
    "import warnings\n",
    "\n",
    "# autoreload modules when code is run. Otherwise, python will not see recent changes. \n",
    "%load_ext autoreload \n",
    "%autoreload 2\n",
    "\n",
    "# import inauguralproject\n",
    "from inauguralproject import HouseholdSpecializationModelClass\n",
    "\n",
    "# ignore RuntimeWarning\n",
    "warnings.filterwarnings(\"ignore\", category=RuntimeWarning)\n"
   ]
  },
  {
   "cell_type": "markdown",
   "metadata": {},
   "source": [
    "# Question 1"
   ]
  },
  {
   "attachments": {},
   "cell_type": "markdown",
   "metadata": {},
   "source": [
    "First, assuming that the choice set is discrete meaning that $L_M, L_F, H_M$ and $H_F$ are available in \n",
    "half hours. To illustrate how $H_F/H_M$ changes for varying $\\alpha$ and $\\sigma$ values we first defines the arrays for the two parameters. We then create three empty lists are created to store the results of the loop. The loop iterates over all possible combinations of $\\alpha$ and $\\sigma$ values, with the parameters being set to the current values of $\\alpha$ and $\\sigma$ in each iteration. For the current parameter values the model is solved and the values of $H_F$ and $H_M$ is calculated as the the ratio and stored in the list. DataFrame is used to present results in a table, which can be found below. "
   ]
  },
  {
   "cell_type": "code",
   "execution_count": null,
   "metadata": {},
   "outputs": [],
   "source": [
    "# define alpha and sigma values to vary\n",
    "alpha_vec = np.linspace(0.25, 0.75, 3)\n",
    "sigma_vec = np.linspace(0.5, 1.5, 3)\n",
    "\n",
    "# create empty lists to store results\n",
    "alpha_list = []\n",
    "sigma_list = []\n",
    "HFHM_ratio_list = []\n",
    "\n",
    "# loop over alpha and sigma values\n",
    "for alpha in alpha_vec:\n",
    "    for sigma in sigma_vec:\n",
    "        # set new alpha and sigma values\n",
    "        model.par.alpha = alpha\n",
    "        model.par.sigma = sigma\n",
    "        # solve model\n",
    "        opt = model.solve_discrete()\n",
    "        # store results\n",
    "        alpha_list.append(alpha)\n",
    "        sigma_list.append(sigma)\n",
    "        HFHM_ratio_list.append(opt.HF/opt.HM)\n",
    "\n",
    "# create table with results\n",
    "results_df = pd.DataFrame({'alpha': alpha_list,\n",
    "                           'sigma': sigma_list,\n",
    "                           'Home production ratio': HFHM_ratio_list})\n",
    "\n",
    "print(results_df)"
   ]
  },
  {
   "attachments": {},
   "cell_type": "markdown",
   "metadata": {},
   "source": [
    "We see from the table that for $\\alpha = 0.50$ the ratio equals $1$ as the male and the female is equally productive in home production. An $\\alpha$ value closer to $0.00$ indicates that the female specializes more in home production, while the male specializes more in market work. Opposite an $\\alpha$ value closer to $1.00$ indicates a female specialization in market work and male specialization in home production. \n",
    "\n",
    "$\\sigma$ represent the elasticity of substitution such that $\\sigma$ equals 1 means that the time and effort for the female and male memeber of the household is perfect substitutes. Meaning that the marginal productivity of one household member's work is constant regardless of the other household member's time allocation. For $\\sigma$ less than $1.00$, the household members' time and effort are substitutes, which means that the productivity of one household member's work decreases when the other household member also works. When $\\sigma$ is greater than $1.00$, the household members' time and effort are complements, which means that the productivity of one household member's work increases when the other household member also works."
   ]
  },
  {
   "cell_type": "markdown",
   "metadata": {},
   "source": [
    "# Question 2"
   ]
  },
  {
   "attachments": {},
   "cell_type": "markdown",
   "metadata": {},
   "source": [
    "We assume the the values of $\\alpha$ and $\\sigma$ are back to the baseline values, $\\alpha=0.5$ and $\\sigma=1.0$. To plot the $log(H_F/H_M)$, first, we defines a range of values of the female wage, $w_f$. As in question $1$ we also creates empty lists for $log(H_F/H_M)$ to store the results later in loop. In each iteration of the loop $w_f$ is set to a current value and the model is solved using the solve_discrete function. The found values are stored in the respective list. \n",
    "\n",
    "To plot the results we use Pandas DataFrame and have $log(w_f/w_m)$ on the first axis and $log(H_F/H_M)$ on the second axis. The figure is shown by running the code below. "
   ]
  },
  {
   "cell_type": "code",
   "execution_count": null,
   "metadata": {},
   "outputs": [],
   "source": [
    "# reset values for alpha and sigma back to initial values\n",
    "model.par.alpha=0.5\n",
    "model.par.sigma=1.0\n",
    "\n",
    "# define wf to vary and create empty lists\n",
    "wf_vec = np.linspace(0.8, 1.2, 5)\n",
    "log_wfwm_list = []\n",
    "log_HFHM_ratio_list = []\n",
    "\n",
    "# loop over the female wage values\n",
    "for wf in wf_vec:\n",
    "    model.par.wF=wf\n",
    "    opt=model.solve_discrete()\n",
    "    log_wfwm_list.append(math.log(wf/model.par.wM))\n",
    "    log_HFHM_ratio_list.append(math.log(opt.HF/opt.HM))\n",
    "\n",
    "# create figure with results\n",
    "plt.plot(log_wfwm_list, log_HFHM_ratio_list, marker='o', color='blue')\n",
    "plt.xlabel('log($w_F$/$w_M$)', fontsize=12)\n",
    "plt.ylabel('log($H_F$/$H_M$)', fontsize=12)\n",
    "plt.title('Discrete time: Variation in Wage Ratio and Ratio of Household Production Time', fontsize=12)\n",
    "plt.show()"
   ]
  },
  {
   "attachments": {},
   "cell_type": "markdown",
   "metadata": {},
   "source": [
    "The figure shows that the higher value of female wage, the lower value for $log(H_F/H_M)$, meaning the allocation of time changes such the female member works more hours at home than the male household member. When the female wage increases further, the female is better off working in the labour market than home production compared to the male member."
   ]
  },
  {
   "cell_type": "markdown",
   "metadata": {},
   "source": [
    "# Question 3"
   ]
  },
  {
   "attachments": {},
   "cell_type": "markdown",
   "metadata": {},
   "source": [
    "We now assume that the choice set is continous and define a method 'Solve' that solves the model continuously, meaning that it finds the optimal combination of hours worked by each member of the household at any given time. \n",
    "First we defines an objective function which takes 4 variables as input, $L_F$, $L_M$, $H_F$ and $H_M$ and then defines constraints, bounds and initial values. \n",
    "\n",
    "To solve the model continuously we use the optimization techniques from the 'scipy.optimize' package to find the optimal values of hours. The optimal combination of hours worked that maximizes the utility is found and stored in the opt. namespace.\n",
    "\n",
    "We use the definition of $w_f$ from question 2 and uses pandas DataFrame to plot $log(H_M/H_F)$ against $log(w_m/w_f)$. By running the code below, you will see the plot. "
   ]
  },
  {
   "cell_type": "code",
   "execution_count": null,
   "metadata": {},
   "outputs": [],
   "source": [
    "# define wf to vary\n",
    "log_wfwm_list = []\n",
    "log_HFHM_ratio_list = []\n",
    "\n",
    "# loop over the female wage values\n",
    "for wf in wf_vec:\n",
    "    model.par.wF=wf\n",
    "    opt=model.solve()\n",
    "    log_wfwm_list.append(math.log(wf/model.par.wM))\n",
    "    log_HFHM_ratio_list.append(math.log(opt.HF/opt.HM))\n",
    "\n",
    "# create figure with results\n",
    "plt.plot(log_wfwm_list, log_HFHM_ratio_list, marker='o', color='green')\n",
    "plt.xlabel('log($w_F$/$w_M$)', fontsize=12)\n",
    "plt.ylabel('log($H_F$/$H_M$)', fontsize=12)\n",
    "plt.title('Continous time: Variation in Wage Ratio and Ratio of Household Production Time', fontsize=12)\n",
    "plt.grid(False)\n",
    "plt.show()"
   ]
  },
  {
   "attachments": {},
   "cell_type": "markdown",
   "metadata": {},
   "source": [
    "As in question 2, we see from the figure above that the higher value of the female wage, the lower value of $log(H_F/H_M)$."
   ]
  },
  {
   "attachments": {},
   "cell_type": "markdown",
   "metadata": {},
   "source": [
    "# Question 4"
   ]
  },
  {
   "attachments": {},
   "cell_type": "markdown",
   "metadata": {},
   "source": [
    "To match the data from *Siminski and Yetsenga (2004)* we have to choose values of $\\alpha$ and $\\sigma$ to minimize"
   ]
  },
  {
   "attachments": {},
   "cell_type": "markdown",
   "metadata": {},
   "source": [
    "$$\n",
    "(\\beta_0 - \\hat\\beta_0)^2 + (\\beta_1 - \\hat\\beta_1)^2\n",
    "$$"
   ]
  },
  {
   "attachments": {},
   "cell_type": "markdown",
   "metadata": {},
   "source": [
    "To solve the model we use the continuous values for $L_M, L_F, w_M$ and $w_F$. \n",
    "\n",
    "First we define a method to estimate the parameters $\\alpha$ and $\\sigma$ to minimize an objective function. The method solves the model for all $w_f$ values and runs a regression defined in 'run_regression'. Then we defines the objective function to be minimizes, which returns the difference between the target values of $\\beta_0$ and $\\beta_1$ and the estimated values. Next, we create bounds and initial values which is used to call the optimizer to minimize the objective function using the SLSQP method. Finally, it stores the results in a dictionary and the code below prints them out."
   ]
  },
  {
   "cell_type": "code",
   "execution_count": null,
   "metadata": {},
   "outputs": [],
   "source": [
    "model.estimate()"
   ]
  },
  {
   "attachments": {},
   "cell_type": "markdown",
   "metadata": {},
   "source": [
    "By the regression equaltion $log(H_F/H_M) = \\beta_0 + \\beta_1 * log(w_f/w_m)$ we see that $\\beta_0$ is a constant term and $\\beta_1$ is the coefficient for the wage ratio for the female and male household member. It means that one percent change in the wage ratio leads to a $\\beta_1$ percent change in the ratio of home production. Such the wage ratio increases with one percent, the ratio of home production decreases with 0.8 pct. It indicates that an increase in the ratio of female to male wages, the amount spent on home production by the female decreases. \n",
    "\n",
    "\n",
    "We estimate that $\\sigma$ equal 1.0 which indicates that the input of home production are perfect substitutes for each other. This means that the production function can easily switch between using the two members without any changes in the level of output. \n",
    "\n",
    "\n",
    "As $\\sigma$ equal 1.0, we use the Cobb-Douglas roduction function. We estimate $\\alpha$ equals 0.8 which means the share of female time in the home production function is relatively high and the home production is more responsive to changes in female labour than male labour. This means that if the female hours working at home increases, the output of home production will increase more than if the share of male labour increases. "
   ]
  },
  {
   "attachments": {},
   "cell_type": "markdown",
   "metadata": {},
   "source": [
    "# Question 5"
   ]
  },
  {
   "attachments": {},
   "cell_type": "markdown",
   "metadata": {},
   "source": [
    "For this question we have to suggest and implement an extension of the model, such we can analyze whether or not it can help match the data when $\\alpha = 0.5$.\n",
    "\n",
    "We start by setting $\\alpha$ equals $0.5$ and try to find a $\\sigma$ to fit data. The code is quite similar to the one used in question 4 but instead of having both $\\alpha$ and $\\sigma$ in the objective function, we now only have $\\sigma$. The code for this question can be found in the py file under the definition of the method 'estimate_extension'. "
   ]
  },
  {
   "cell_type": "code",
   "execution_count": null,
   "metadata": {},
   "outputs": [],
   "source": [
    "model.estimate_extension()"
   ]
  },
  {
   "attachments": {},
   "cell_type": "markdown",
   "metadata": {},
   "source": [
    "We get that for a fixed $\\alpha$ equals $0.5$ we estimate $\\sigma$ to 2.0. As this extension og the model gives a quite high $\\sigma$ value, this does not seem like it is helping matching the data. "
   ]
  }
 ],
 "metadata": {
  "kernelspec": {
   "display_name": "base",
   "language": "python",
   "name": "python3"
  },
  "language_info": {
   "codemirror_mode": {
    "name": "ipython",
    "version": 3
   },
   "file_extension": ".py",
   "mimetype": "text/x-python",
   "name": "python",
   "nbconvert_exporter": "python",
   "pygments_lexer": "ipython3",
   "version": "3.9.13"
  },
  "toc-autonumbering": true,
  "vscode": {
   "interpreter": {
    "hash": "153d7f48fc2b2cac0ae68a71f7037e0d68cd6d9af7e2eb20d1cf2d67faf3bb7a"
   }
  }
 },
 "nbformat": 4,
 "nbformat_minor": 4
}
