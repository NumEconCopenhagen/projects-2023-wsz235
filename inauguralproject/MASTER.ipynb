{
 "cells": [
  {
   "cell_type": "markdown",
   "metadata": {},
   "source": [
    "# Inaugural Project"
   ]
  },
  {
   "cell_type": "code",
   "execution_count": 30,
   "metadata": {},
   "outputs": [
    {
     "name": "stderr",
     "output_type": "stream",
     "text": [
      "/var/folders/__/y1zwfmg97w56l4ffjlqcx5h00000gn/T/ipykernel_9165/2985403794.py:66: RuntimeWarning: invalid value encountered in reciprocal\n",
      "  utility = np.fmax(Q,1e-8)**(1-par.rho)/(1-par.rho)\n"
     ]
    },
    {
     "data": {
      "text/plain": [
       "namespace(LM=4.5, HM=4.5, LF=4.5, HF=4.5, HFHM_Ratio=1.0)"
      ]
     },
     "execution_count": 30,
     "metadata": {},
     "output_type": "execute_result"
    }
   ],
   "source": [
    "\n",
    "from types import SimpleNamespace\n",
    "\n",
    "import numpy as np\n",
    "from scipy import optimize\n",
    "\n",
    "import pandas as pd \n",
    "import matplotlib.pyplot as plt\n",
    "import math\n",
    "\n",
    "class HouseholdSpecializationModelClass:\n",
    "\n",
    "    def __init__(self):\n",
    "        \"\"\" setup model \"\"\"\n",
    "\n",
    "        # a. create namespaces\n",
    "        par = self.par = SimpleNamespace()\n",
    "        sol = self.sol = SimpleNamespace()\n",
    "\n",
    "        # b. preferences\n",
    "        par.rho = 2.0\n",
    "        par.nu = 0.001\n",
    "        par.epsilon = 1.0\n",
    "        par.omega = 0.5 \n",
    "\n",
    "        # c. household production\n",
    "        par.alpha = 0.5\n",
    "        par.sigma = 1.0\n",
    "\n",
    "        # d. wages\n",
    "        par.wM = 1.0\n",
    "        par.wF = 1.0\n",
    "        par.wF_vec = np.linspace(0.8,1.2,5)\n",
    "\n",
    "        # e. targets\n",
    "        par.beta0_target = 0.4\n",
    "        par.beta1_target = -0.1\n",
    "\n",
    "        # f. solution\n",
    "        sol.LM_vec = np.zeros(par.wF_vec.size)\n",
    "        sol.HM_vec = np.zeros(par.wF_vec.size)\n",
    "        sol.LF_vec = np.zeros(par.wF_vec.size)\n",
    "        sol.HF_vec = np.zeros(par.wF_vec.size)\n",
    "\n",
    "        sol.beta0 = np.nan\n",
    "        sol.beta1 = np.nan\n",
    "\n",
    "    def calc_utility(self,LM,HM,LF,HF):\n",
    "        \"\"\" calculate utility \"\"\"\n",
    "\n",
    "        par = self.par\n",
    "        sol = self.sol\n",
    "\n",
    "        # a. consumption of market goods\n",
    "        C = par.wM*LM + par.wF*LF\n",
    "\n",
    "        # b. home production\n",
    "        if par.sigma == 0:\n",
    "            H = np.minimum(HF, HM)\n",
    "        elif par.sigma == 1:\n",
    "            H = HM**(1-par.alpha)*HF**par.alpha\n",
    "        else:\n",
    "            H = ((1-par.alpha)*HM**((par.sigma-1)/par.sigma) + par.alpha * HF**((par.sigma-1)/par.sigma))**(par.sigma/(par.sigma-1))\n",
    "\n",
    "        # c. total consumption utility\n",
    "        Q = C**par.omega*H**(1-par.omega)\n",
    "        utility = np.fmax(Q,1e-8)**(1-par.rho)/(1-par.rho)\n",
    "\n",
    "        # d. disutlity of work\n",
    "        epsilon_ = 1+1/par.epsilon\n",
    "        TM = LM+HM\n",
    "        TF = LF+HF\n",
    "        disutility = par.nu*(TM**epsilon_/epsilon_+TF**epsilon_/epsilon_)\n",
    "        \n",
    "        return utility - disutility\n",
    "\n",
    "    def solve_discrete(self,do_print=False):\n",
    "        \"\"\" solve model discretely \"\"\"\n",
    "        \n",
    "        par = self.par\n",
    "        sol = self.sol\n",
    "        opt = SimpleNamespace()\n",
    "        \n",
    "\n",
    "        # a. all possible choices\n",
    "        x = np.linspace(0,24,49)\n",
    "        LM,HM,LF,HF = np.meshgrid(x,x,x,x) # all combinations\n",
    "    \n",
    "        LM = LM.ravel() # vector\n",
    "        HM = HM.ravel()\n",
    "        LF = LF.ravel()\n",
    "        HF = HF.ravel()\n",
    "\n",
    "        # b. calculate utility\n",
    "        u = self.calc_utility(LM,HM,LF,HF)\n",
    "    \n",
    "        # c. set to minus infinity if constraint is broken\n",
    "        I = (LM+HM > 24) | (LF+HF > 24) # | is \"or\"\n",
    "        u[I] = -np.inf\n",
    "    \n",
    "        # d. find maximizing argument\n",
    "        j = np.argmax(u)\n",
    "        \n",
    "        opt.LM = LM[j]\n",
    "        opt.HM = HM[j]\n",
    "        opt.LF = LF[j]\n",
    "        opt.HF = HF[j]\n",
    "        opt.HFHM_Ratio = HF[j]/HM[j]\n",
    "    \n",
    "\n",
    "        # e. print\n",
    "        if do_print:\n",
    "            for k,v in opt.__dict__.items():\n",
    "                print(f'{k} = {v:6.4f}')\n",
    "\n",
    "        return opt\n",
    "    \n",
    "    def solve(self,do_print=False):\n",
    "        \"\"\" solve model continously \"\"\"\n",
    "        \n",
    "        par = self.par\n",
    "        sol = self.sol\n",
    "        opt = SimpleNamespace()\n",
    "        \n",
    "        # a. all possible choices\n",
    "        x = np.linspace(0,24,49)\n",
    "        LM,HM,LF,HF = np.meshgrid(x,x,x,x) # all combinations\n",
    "    \n",
    "        LM = LM.ravel() # vector\n",
    "        HM = HM.ravel()\n",
    "        LF = LF.ravel()\n",
    "        HF = HF.ravel()\n",
    "\n",
    "        # b. calculate utility\n",
    "        u = self.calc_utility(LM,HM,LF,HF)\n",
    "    \n",
    "        # c. set to minus infinity if constraint is broken\n",
    "        I = (LM+HM > 24) | (LF+HF > 24) # | is \"or\"\n",
    "        u[I] = -np.inf\n",
    "    \n",
    "        # d. find maximizing argument\n",
    "        j = np.argmax(u)\n",
    "        \n",
    "        opt.LM = LM[j]\n",
    "        opt.HM = HM[j]\n",
    "        opt.LF = LF[j]\n",
    "        opt.HF = HF[j]\n",
    "\n",
    "        # e. print\n",
    "        if do_print:\n",
    "            for k,v in opt.__dict__.items():\n",
    "                print(f'{k} = {v:6.4f}')\n",
    "\n",
    "        return opt\n",
    "\n",
    "\n",
    " \n",
    "model = HouseholdSpecializationModelClass()\n",
    "model.solve_discrete()\n",
    "\n"
   ]
  },
  {
   "cell_type": "code",
   "execution_count": 31,
   "metadata": {},
   "outputs": [
    {
     "name": "stderr",
     "output_type": "stream",
     "text": [
      "/var/folders/__/y1zwfmg97w56l4ffjlqcx5h00000gn/T/ipykernel_9165/2985403794.py:62: RuntimeWarning: divide by zero encountered in reciprocal\n",
      "  H = ((1-par.alpha)*HM**((par.sigma-1)/par.sigma) + par.alpha * HF**((par.sigma-1)/par.sigma))**(par.sigma/(par.sigma-1))\n",
      "/var/folders/__/y1zwfmg97w56l4ffjlqcx5h00000gn/T/ipykernel_9165/2985403794.py:62: RuntimeWarning: invalid value encountered in reciprocal\n",
      "  H = ((1-par.alpha)*HM**((par.sigma-1)/par.sigma) + par.alpha * HF**((par.sigma-1)/par.sigma))**(par.sigma/(par.sigma-1))\n",
      "/var/folders/__/y1zwfmg97w56l4ffjlqcx5h00000gn/T/ipykernel_9165/2985403794.py:66: RuntimeWarning: invalid value encountered in reciprocal\n",
      "  utility = np.fmax(Q,1e-8)**(1-par.rho)/(1-par.rho)\n"
     ]
    },
    {
     "name": "stdout",
     "output_type": "stream",
     "text": [
      "   alpha  sigma  HFHM_ratio\n",
      "0   0.25    0.5    0.545455\n",
      "1   0.25    1.0    0.307692\n",
      "2   0.25    1.5    0.214286\n",
      "3   0.50    0.5    1.000000\n",
      "4   0.50    1.0    1.000000\n",
      "5   0.50    1.5    1.000000\n",
      "6   0.75    0.5    1.833333\n",
      "7   0.75    1.0    3.250000\n",
      "8   0.75    1.5    4.666667\n"
     ]
    }
   ],
   "source": [
    "# define alpha and sigma values to vary\n",
    "alpha_vec = np.linspace(0.25, 0.75, 3)\n",
    "sigma_vec = np.linspace(0.5, 1.5, 3)\n",
    "\n",
    "# create empty lists to store results\n",
    "alpha_list = []\n",
    "sigma_list = []\n",
    "HFHM_ratio_list = []\n",
    "\n",
    "# loop over alpha and sigma values\n",
    "for alpha in alpha_vec:\n",
    "    for sigma in sigma_vec:\n",
    "        # set new alpha and sigma values\n",
    "        model.par.alpha = alpha\n",
    "        model.par.sigma = sigma\n",
    "        # solve model\n",
    "        opt = model.solve_discrete()\n",
    "        # store results\n",
    "        alpha_list.append(alpha)\n",
    "        sigma_list.append(sigma)\n",
    "        HFHM_ratio_list.append(opt.HF/opt.HM)\n",
    "\n",
    "# create table with results\n",
    "results_df = pd.DataFrame({'alpha': alpha_list,\n",
    "                           'sigma': sigma_list,\n",
    "                           'HFHM_ratio': HFHM_ratio_list})\n",
    "print(results_df)\n"
   ]
  },
  {
   "cell_type": "code",
   "execution_count": 33,
   "metadata": {},
   "outputs": [
    {
     "name": "stderr",
     "output_type": "stream",
     "text": [
      "/var/folders/__/y1zwfmg97w56l4ffjlqcx5h00000gn/T/ipykernel_9165/2985403794.py:66: RuntimeWarning: invalid value encountered in reciprocal\n",
      "  utility = np.fmax(Q,1e-8)**(1-par.rho)/(1-par.rho)\n"
     ]
    },
    {
     "name": "stdout",
     "output_type": "stream",
     "text": [
      "       wfwm  HFHM_ratio\n",
      "0 -0.223144    2.079442\n",
      "1 -0.105361    1.609438\n",
      "2  0.000000    1.540445\n",
      "3  0.095310    1.540445\n",
      "4  0.182322    1.466337\n"
     ]
    },
    {
     "data": {
      "image/png": "[encoded data removed]",
      "text/plain": [
       "<Figure size 640x480 with 1 Axes>"
      ]
     },
     "metadata": {},
     "output_type": "display_data"
    }
   ],
   "source": [
    "# define wf to vary\n",
    "wf_vec = np.linspace(0.8, 1.2, 5)\n",
    "log_wfwm_list = []\n",
    "log_HFHM_ratio_list = []\n",
    "\n",
    "for wf in wf_vec:\n",
    "    model.par.wF=wf\n",
    "    opt=model.solve_discrete()\n",
    "    log_wfwm_list.append(math.log(wf/model.par.wM))\n",
    "    log_HFHM_ratio_list.append(math.log(opt.HF/opt.HM))\n",
    "\n",
    "# create table with results\n",
    "results_df1 = pd.DataFrame({'wfwm': log_wfwm_list,\n",
    "                           'HFHM_ratio': log_HFHM_ratio_list})\n",
    "print(results_df1)\n",
    "\n",
    "plt.plot(results_df1['wfwm'], results_df1['HFHM_ratio'], 'o-')\n",
    "plt.xlabel('log(wF/wM)')\n",
    "plt.ylabel('log(HF/HM)')\n",
    "plt.show()"
   ]
  }
 ],
 "metadata": {
  "kernelspec": {
   "display_name": "base",
   "language": "python",
   "name": "python3"
  },
  "language_info": {
   "codemirror_mode": {
    "name": "ipython",
    "version": 3
   },
   "file_extension": ".py",
   "mimetype": "text/x-python",
   "name": "python",
   "nbconvert_exporter": "python",
   "pygments_lexer": "ipython3",
   "version": "3.9.13"
  },
  "toc-autonumbering": true,
  "vscode": {
   "interpreter": {
    "hash": "153d7f48fc2b2cac0ae68a71f7037e0d68cd6d9af7e2eb20d1cf2d67faf3bb7a"
   }
  }
 },
 "nbformat": 4,
 "nbformat_minor": 4
}
