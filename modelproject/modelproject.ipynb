{
 "cells": [
  {
   "attachments": {},
   "cell_type": "markdown",
   "metadata": {},
   "source": [
    "# The Cournot Model"
   ]
  },
  {
   "cell_type": "markdown",
   "metadata": {},
   "source": [
    "Imports and set magics:"
   ]
  },
  {
   "cell_type": "code",
   "execution_count": null,
   "metadata": {},
   "outputs": [],
   "source": [
    "import numpy as np\n",
    "import warnings \n",
    "import scipy.optimize as optimize\n",
    "import plotly.express as px\n",
    "import matplotlib.pyplot as plt\n",
    "from ipywidgets import interact, FloatSlider, Layout\n",
    "\n",
    "warnings.filterwarnings(\"ignore\", category=RuntimeWarning)"
   ]
  },
  {
   "cell_type": "markdown",
   "metadata": {},
   "source": [
    "# Model description"
   ]
  },
  {
   "attachments": {},
   "cell_type": "markdown",
   "metadata": {},
   "source": [
    "**Cournot Model with n firms** \n",
    "\n",
    "Under Cournot competition, the firms determine the quantities, after which the price is determined on the market. The market equilibrium is a Nash equilibrium."
   ]
  },
  {
   "attachments": {},
   "cell_type": "markdown",
   "metadata": {},
   "source": [
    "We consider an economy where there are 2 identical firms which produce the same homogenous good. The firms choose simulataneaously the quantity $q_i$ that they wants to produce, respectively $q_1$ and $q_2$. \n",
    "It means that the total quantity of the market equals\n",
    "\n",
    "$$\n",
    "\\begin{aligned}\n",
    "q = q_1 + q_2 + ... +  q_n\n",
    "\\end{aligned}\n",
    "$$\n",
    "\n",
    "and the opponents output is \n",
    "$$\n",
    "\\begin{aligned}\n",
    "q_{-i} = q - q_i\n",
    "\\end{aligned}\n",
    "$$\n",
    "\n",
    "The marginal costs of the firm i is $c_i$, with $0 ≤ c_i < a$, where $a$ is a constant and indicates the demand intercept. \n",
    "\n",
    "The inverse demand function is defined as : \n",
    "\n",
    "$$\n",
    "\\begin{aligned}\n",
    "p(q)\n",
    "\\end{aligned}\n",
    "$$\n",
    "\n",
    "\n",
    "\n",
    "\n",
    "\n"
   ]
  },
  {
   "attachments": {},
   "cell_type": "markdown",
   "metadata": {},
   "source": [
    "Each firm wants to maximize its profit by choosing its production level by taking the output of the other firm as fixed. The profit function for firm $i$ is given by\n",
    "\n",
    "$$\n",
    "\\begin{aligned}\n",
    "\\Pi_i (q_{-i}, q_i) &= p(q)*q_i - c_i * q_i\\\\\n",
    "&= (p(q_{-i} + q_i) - c_i)*q_i\n",
    "\\end{aligned}\n",
    "$$\n",
    "\n",
    "We can rewrite the profit function such it is a function of the quantity. It means that the profit functions for the two firms can be written as\n",
    "\n",
    "$$\n",
    "\\begin{aligned}\n",
    "\\Pi_i (q_{-i}, q_i) = (a - q_{-i} - q_i - c) * q_i\\\\\n",
    "\\end{aligned}\n",
    "$$\n",
    "\n",
    "The best response functions (BR) maximizes payoff given $q_{-i}$. It means that we take the first order condition of the profit function with respect to $q_i$ and sovle for $q_i$. \n",
    "\n",
    "$$\n",
    "\\begin{aligned}\n",
    "\\frac{d \\Pi_i}{d q_i} = \\frac{d p}{d q_i} * q_i + p - c = 0\n",
    "\\end{aligned}\n",
    "$$\n",
    "\n",
    "The BR function is given by\n",
    "\n",
    "$$\n",
    "\\begin{aligned}\n",
    "q_i = BR(q_{-i}) = \\frac{a - c}{2b} - \\frac{1}{2} * q_{-i}\n",
    "\n",
    "\\end{aligned}\n",
    "$$\n"
   ]
  },
  {
   "attachments": {},
   "cell_type": "markdown",
   "metadata": {},
   "source": [
    "## Defining the model"
   ]
  },
  {
   "attachments": {},
   "cell_type": "markdown",
   "metadata": {},
   "source": [
    "We start by looking at a market with two firms. We define the model and solve a model numerically. "
   ]
  },
  {
   "cell_type": "code",
   "execution_count": null,
   "metadata": {},
   "outputs": [],
   "source": [
    "# define the demand function and the cost function\n",
    "def p(q1, q2, a, b):\n",
    "    return a - b*(q1 + q2)\n",
    "\n",
    "def cost(q, c):\n",
    "    return q * c \n",
    "\n",
    "# define the profit function for the firms\n",
    "def firm_profit_1(q1, q2, a, b, c):\n",
    "    return p(q1, q2, a, b) * q1 - cost(q1, c)\n",
    "\n",
    "def firm_profit_2(q1, q2, a, b, c):\n",
    "    return p(q1, q2, a, b) * q2 - cost(q2, c)\n",
    "\n",
    "# define the best response function for the firm\n",
    "def BR_1(q2, a, b, c):\n",
    "    Q1 = optimize.minimize(lambda q0: -firm_profit_1(q0, q2, a, b, c), [0]).x[0]\n",
    "    return max(Q1, 0)\n",
    "\n",
    "def BR_2(q1, a, b, c):\n",
    "    Q2 = optimize.minimize(lambda q0: -firm_profit_2(q1, q0, a, b, c), [0]).x[0]\n",
    "    return max(Q2, 0)\n",
    "\n",
    "# define the conditions for the Nash equilibrium\n",
    "def conditions(q,a, b, c ):\n",
    "    u = q[0] - BR_1(q[1],a, b, c)\n",
    "    y = q[1] - BR_2(q[0], a, b, c)\n",
    "    return [u, y]\n",
    "\n",
    "# set the initial guess and parameters\n",
    "initial_guess = [1,1]\n",
    "a = 11\n",
    "b = 1\n",
    "c = 2\n",
    "\n",
    "# use the fsolve function to find the Nash equilibrium\n",
    "solver = optimize.fsolve(conditions, initial_guess, args=(a, b, c))\n",
    "q_star = solver[0]\n",
    "\n",
    "# print the NE\n",
    "print(f'The Cournot/Nash Equilibirum is : \\n q_1^* = q_2^* = {q_star:.2f} \\n')\n",
    "\n",
    "# Calculate and print the price and profit at the NE\n",
    "p_star = p(q_star, q_star, a, b)\n",
    "print(f'The price at the Nash equilibrium is: \\n p = {p_star:.2f}')\n",
    "\n",
    "pi_star = firm_profit_1(q_star, q_star, a, b, c)\n",
    "print(f'The pi at the Nash equilibrium is: \\n pi = {pi_star:.2f}')\n"
   ]
  },
  {
   "attachments": {},
   "cell_type": "markdown",
   "metadata": {},
   "source": [
    "In a market with two firms we find that the quilibrium quantities equals 3 for each firm and the price equals 5. The two companies will generally produce the same quantity when they are identical and have exactly the same profit function. The firms will both have a profit equal 3.  "
   ]
  },
  {
   "attachments": {},
   "cell_type": "markdown",
   "metadata": {},
   "source": [
    "We uses the best response functions for firm 1 and 2 to plot the intersection of the Cournot Equilibrium. As the best response function is given by the quantity of the othe firm, first we find firm 2's best response function and insert it in firm 1's response function to find equilibrium quantities. "
   ]
  },
  {
   "cell_type": "code",
   "execution_count": null,
   "metadata": {},
   "outputs": [],
   "source": [
    "# define production levels for firm 1\n",
    "production_level_f1 = np.arange(0, 10, 0.1)\n",
    "\n",
    "# calculate production levels for the firms using the BR function\n",
    "production_level_f2 = np.vectorize(BR_2)(production_level_f1, a, b, c)\n",
    "production_level_f1_2 = np.vectorize(BR_1)(production_level_f2, a, b, c)\n",
    "\n",
    "# create the scatter plot\n",
    "fig = px.scatter()\n",
    "\n",
    "# add lines for firm 1 and 2\n",
    "fig.add_scatter(x=production_level_f2, y=production_level_f1, mode='lines', name='Firm 1', line=dict(color='red'))\n",
    "fig.add_scatter(x=production_level_f1, y=production_level_f2, mode='lines', name='Firm 2', line=dict(color='blue'))\n",
    "\n",
    "# add titles\n",
    "fig.update_layout(title='Cournot Equilibrium, BR function for firm 1 and firm 2')\n",
    "fig.update_xaxes(title='Output of firm 1')\n",
    "fig.update_yaxes(title='Output of firm 2')\n",
    "\n",
    "fig.show()"
   ]
  },
  {
   "attachments": {},
   "cell_type": "markdown",
   "metadata": {},
   "source": [
    "From the graph we see that the intersection of the BR functions is at (3, 3), which is the equilibrium quantities. This means that the two firms will produce 3 items each. The BR functions are crossing the other firms output axis equal 4.5. It means that the firm will produce 4.5 items when the other firm is not producing any. This impliesd that the total output of the market is smaller for a monopolist than duopoly market. "
   ]
  },
  {
   "cell_type": "code",
   "execution_count": null,
   "metadata": {},
   "outputs": [],
   "source": [
    "# create a grid of values for q1 and q2\n",
    "q1_values = np.linspace(0, 5, 100)\n",
    "q2_values = np.linspace(0, 5, 100)\n",
    "q1_grid, q2_grid = np.meshgrid(q1_values, q2_values)\n",
    "\n",
    "# Compute profit levels for each combination of q1 and q2\n",
    "profit_1_grid = firm_profit_1(q1_grid, q2_grid, a, b, c)\n",
    "profit_2_grid = firm_profit_2(q1_grid, q2_grid, a, b, c)\n",
    "\n",
    "# Create a plot for profit functions\n",
    "fig = plt.figure(figsize=(8, 6))\n",
    "ax = fig.add_subplot(111, projection='3d')\n",
    "ax.plot_surface(q1_grid, q2_grid, profit_2_grid, cmap='coolwarm', alpha=0.8)\n",
    "\n",
    "# add a dot at the NE point\n",
    "ax.scatter(q_star, q_star, pi_star, c='r', marker='o')\n",
    "\n",
    "# set axis labels and title\n",
    "ax.set_xlabel('q1')\n",
    "ax.set_ylabel('q2')\n",
    "ax.set_zlabel('Profit')\n",
    "ax.set_title('Profit Functions for Firms 2')\n",
    "\n",
    "plt.show()"
   ]
  },
  {
   "attachments": {},
   "cell_type": "markdown",
   "metadata": {},
   "source": [
    "The plot above shows the profit function for firm 2. The firms are identical so the plot would be identical for firm 1. The plot shows that when firm 1 is not producing, the profit equals 0. When firm 1 is not producing the firm is producing 4.5 and profit equals around 20. \n",
    "\n",
    "The red dot represents the Nash equilibrium point as we found above, where the two firms produce quantities that maximize their profits given their competitors' quantity."
   ]
  },
  {
   "attachments": {},
   "cell_type": "markdown",
   "metadata": {},
   "source": [
    "# Different parameter values"
   ]
  },
  {
   "attachments": {},
   "cell_type": "markdown",
   "metadata": {},
   "source": [
    "The values of the parameters a, b and c has an impact on the results. In the following we look at how different values change the demand and equilibrium. "
   ]
  },
  {
   "cell_type": "code",
   "execution_count": null,
   "metadata": {},
   "outputs": [],
   "source": [
    "N = 2\n",
    "\n",
    "# define quantity and price\n",
    "def cournot(N, a, b, c):\n",
    "    q = (a - b*N - c*N) / (2*N)  \n",
    "    p = a - b*q - N*q \n",
    "    return p, q\n",
    "\n",
    "# create plot \n",
    "def cournot_model(a, b, c):\n",
    "    p, q = cournot(N, a, b, c) \n",
    "    fig, ax = plt.subplots()\n",
    "    x = np.linspace(0, (a-b*N)/N, 100)  \n",
    "    ax.plot(x, a - b*x - N*x, lw=2, label='Demand')  \n",
    "    ax.plot(q, p, 'ro', label='Equilibrium')  \n",
    "    ax.set_xlabel('Quantity')\n",
    "    ax.set_ylabel('Price')\n",
    "    ax.set_xlim([0, (a-b*N)/N])  \n",
    "    ax.set_ylim([0, a])  \n",
    "    ax.legend(loc='best')\n",
    "    plt.title(f'{N} firms, a={a}, b={b}, c={c}')  \n",
    "    plt.show()\n",
    "\n",
    "# create sliders for a, b and c\n",
    "a_slider = FloatSlider(min=0, max=20, step=0.5, value=10, description='a:', layout=Layout(width='50%'))\n",
    "b_slider = FloatSlider(min=0, max=5, step=0.1, value=1, description='b:', layout=Layout(width='50%'))\n",
    "c_slider = FloatSlider(min=0, max=5, step=0.1, value=1, description='c:', layout=Layout(width='50%'))\n",
    "\n",
    "# use the sliders to interact with the cournot_model function\n",
    "interact(cournot_model, a=a_slider, b=b_slider, c=c_slider)\n"
   ]
  },
  {
   "attachments": {},
   "cell_type": "markdown",
   "metadata": {},
   "source": [
    "The parameter a is the demand in the market when the price is zero. So a high value a implies a high demand for the good in the market. \n",
    "\n",
    "The parameter b is the slope of the demand. For b going toward infinity, the dependence on the other firm's price on one's own production increases. A high value of b therefore means a the demand curve becomes steeper, and a larger decrease in the market price occurs for each unit increase in the quantity produced. This has the effect of reducing the quantity of the good that each firm produces in equilibrium. \n",
    "\n",
    "The parameter c is the cost of production for the firm. It is the cost for the firm to produce one more unit. If c increases, the marginal cost of production for the firm increases, which makes it more expensive for firms to produce each unit of output. "
   ]
  },
  {
   "attachments": {},
   "cell_type": "markdown",
   "metadata": {},
   "source": [
    "# Different number of firms in the market"
   ]
  },
  {
   "attachments": {},
   "cell_type": "markdown",
   "metadata": {},
   "source": [
    "We start by looking at the change when there are three firms in the market. "
   ]
  },
  {
   "cell_type": "code",
   "execution_count": null,
   "metadata": {},
   "outputs": [],
   "source": [
    "# define the demand function and cost function\n",
    "def p(q1, q2, q3, a, b):\n",
    "    return a - b*(q1 + q2 + q3)\n",
    "\n",
    "def cost(q, c):\n",
    "    return q * c \n",
    "\n",
    "# define the profit function for firm 1, firm 2 and firm 3\n",
    "def firm_profit_1(q1, q2, q3, a, b, c):\n",
    "    return p(q1, q2, q3, a, b) * q1 - cost(q1, c)\n",
    "\n",
    "def firm_profit_2(q1, q2, q3, a, b, c):\n",
    "    return p(q1, q2, q3, a, b) * q2 - cost(q2, c)\n",
    "\n",
    "def firm_profit_3(q1, q2, q3, a, b, c):\n",
    "    return p(q1, q2, q3, a, b) * q3 - cost(q3, c)\n",
    "\n",
    "# Define the best response function for firm 1, firm 2 and firm 3\n",
    "def BR_1(q2, q3, a, b, c):\n",
    "    Q1 = optimize.minimize(lambda q0: -firm_profit_1(q0, q2, q3, a, b, c), [0]).x[0]\n",
    "    return Q1\n",
    "\n",
    "def BR_2(q1, q3, a, b, c):\n",
    "    Q2 = optimize.minimize(lambda q0: -firm_profit_2(q1, q0, q3, a, b, c), [0]).x[0]\n",
    "    return Q2\n",
    "\n",
    "def BR_3(q1, q2, a, b, c):\n",
    "    Q3 = optimize.minimize(lambda q0: -firm_profit_3(q1, q2, q0, a, b, c), [0]).x[0]\n",
    "    return Q3\n",
    "\n",
    "# define the conditions for NE\n",
    "def conditions(q,a, b, c ):\n",
    "    u = q[0] - BR_1(q[1], q[2], a, b, c) # condition for firm 1\n",
    "    y = q[1] - BR_2(q[0], q[2], a, b, c) # condition for firm 2\n",
    "    z = q[2] - BR_3(q[0], q[1], a, b, c) # condition for firm 3\n",
    "    return [u, y, z]\n",
    "\n",
    "# set the initial guess\n",
    "initial_guess = [1,1,1]\n",
    "\n",
    "# solve for NE\n",
    "solver = optimize.fsolve(conditions,initial_guess, args = (a, b, c))\n",
    "q_star = solver\n",
    "print(f'The Cournot/Nash Equilibirum is : \\n q_1^* = {q_star[0]:.2f}, q_2^* = {q_star[1]:.2f}, q_3^* = {q_star[2]:.2f}\\n')\n",
    "\n",
    "# Calculate and print the price and profit at the NE\n",
    "p_star = p(q_star[0], q_star[1], q_star[2], a, b)\n",
    "print(f'The price at the Nash equilibrium is: \\n p = {p_star:.2f}')\n",
    "\n",
    "pi_star_i = firm_profit_1(q_star[0], q_star[1], q_star[2], a, b, c)\n",
    "print(f'As the firms are identical, the profit of firm i at the Nash equilibrium is: \\n pi_i = {pi_star_i:.2f}')\n"
   ]
  },
  {
   "attachments": {},
   "cell_type": "markdown",
   "metadata": {},
   "source": [
    "Having three firms in the market we get a lower equilibirum price where the price decreases from 5.0 to 4.25. The quantity decreases for each firm but the overall produced quantity for the market will increase which means that the total quantity of the market equals 6.75 compared to 6.0 when having two firms in the market. "
   ]
  },
  {
   "attachments": {},
   "cell_type": "markdown",
   "metadata": {},
   "source": [
    "If the number of firms would increase further towards infinity, the equilibrium price will go towards the cost\n",
    "\n",
    "$$\n",
    "\\begin{aligned}\n",
    "p^* \\rightarrow c\n",
    "\\end{aligned}\n",
    "$$\n",
    "\n",
    "and the profit will go towards 0\n",
    "\n",
    "$$\n",
    "\\begin{aligned}\n",
    "\\pi \\rightarrow 0\n",
    "\\end{aligned}\n",
    "$$\n",
    "\n",
    "This corresponds to the results that we would get under perfect competition. The price will be pushed down to the marginal cost, the quantity will increase, the profit will go towards 0 and consumer surplus will increase. Exactly as under perfect competition. "
   ]
  },
  {
   "cell_type": "markdown",
   "metadata": {},
   "source": [
    "# Conclusion"
   ]
  },
  {
   "attachments": {},
   "cell_type": "markdown",
   "metadata": {},
   "source": [
    "We have looked a Cournot model with different parameter values and different number of firms in the market.\n",
    "\n",
    "When having two firms in the market we got a equilibrium price equal 5.00 and equilbrium quantity equal 3.00. When increasing tbe number of firms in the market the equilibrium price decreased but the total quantity of the market increased. \n",
    "\n",
    "By increasing the number of firms in the market further, the price will go towards the marginal cost, the quantity will increase and the profit will go towards 0. "
   ]
  }
 ],
 "metadata": {
  "kernelspec": {
   "display_name": "base",
   "language": "python",
   "name": "python3"
  },
  "language_info": {
   "codemirror_mode": {
    "name": "ipython",
    "version": 3
   },
   "file_extension": ".py",
   "mimetype": "text/x-python",
   "name": "python",
   "nbconvert_exporter": "python",
   "pygments_lexer": "ipython3",
   "version": "3.9.13"
  },
  "toc-autonumbering": true,
  "vscode": {
   "interpreter": {
    "hash": "153d7f48fc2b2cac0ae68a71f7037e0d68cd6d9af7e2eb20d1cf2d67faf3bb7a"
   }
  }
 },
 "nbformat": 4,
 "nbformat_minor": 4
}
