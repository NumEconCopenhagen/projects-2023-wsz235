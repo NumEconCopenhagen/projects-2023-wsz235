{
 "cells": [
  {
   "attachments": {},
   "cell_type": "markdown",
   "metadata": {},
   "source": [
    "# The Cournot Model"
   ]
  },
  {
   "attachments": {},
   "cell_type": "markdown",
   "metadata": {},
   "source": [
    "This project provides an examination of the dynamics of the Cournot model, exploring how firms interact to maximize profits while considering the output levels of their competitors. Initially assuming two firms in the market, we begin by constructing the model, detailing the mathematical basis, which includes profit functions, best response functions, and the iterative process of equilibrium determination. Following that, we extend our analysis to involve varying parameters and numbers of firms, to provide clearer insights into understanding the markets, their equilibrium conditions, and the competitive dynamics at play as the number of firms varies. Through this project, we aim to offer intuitive insights into the behavior of firms and the implications for market outcomes."
   ]
  },
  {
   "cell_type": "markdown",
   "metadata": {},
   "source": [
    "Imports and set magics:"
   ]
  },
  {
   "cell_type": "code",
   "execution_count": null,
   "metadata": {},
   "outputs": [],
   "source": [
    "import sympy as sm\n",
    "import numpy as np\n",
    "import warnings \n",
    "import plotly.graph_objects as go\n",
    "from ipywidgets import interact, FloatSlider, Layout\n",
    "from IPython.display import Markdown\n",
    "\n",
    "warnings.filterwarnings(\"ignore\", category=RuntimeWarning)"
   ]
  },
  {
   "attachments": {},
   "cell_type": "markdown",
   "metadata": {},
   "source": [
    "# 1. Model description"
   ]
  },
  {
   "attachments": {},
   "cell_type": "markdown",
   "metadata": {},
   "source": [
    "**1.1 Cournot Model with 2 Firms** \n",
    "\n",
    "Under Cournot competition, firms determine their output quantities, after which the market price is established. The market equilibrium is a Nash equilibrium, where neither firm has an incentive to unilaterally deviate from its chosen output level. We consider an economy where two identical firms produce the same homogenous good.\n",
    "\n",
    "The Cournot model makes the following assumptions:\n",
    "\n",
    "* The firms independently and simultaneously choose the quantity $q_i$ they wish to produce, denoted as $q_1$ and $q_2$ respectively.\n",
    "\n",
    "* Each firm aims to maximize its own profit, given the quantity produced by the other firm.\n",
    "\n",
    "* Each firm has the same constant marginal cost of production, c.\n",
    "\n",
    "* The market price is determined by the total supply and a known demand function.\n",
    "\n",
    "* There is no cooperation between the firms."
   ]
  },
  {
   "attachments": {},
   "cell_type": "markdown",
   "metadata": {},
   "source": [
    "Each firm $i$ aims to maximize its profit by choosing its production level, taking the output of the other firm $j$ as fixed. The profit function for firm $i$ is given by\n",
    "\n",
    "$$\n",
    "\\begin{aligned}\n",
    "\\Pi_i (q_{-i}, q_i) &= p(q)q_i - c_iq_i\\\\\n",
    "&= (p(q_{-i} + q_i) - c_i)q_i\n",
    "\\end{aligned}\n",
    "$$\n",
    "\n",
    "\n",
    "We can rewrite the profit function to be a function of the quantity. Thus, the profit functions for the two firms can be written as\n",
    "\n",
    "$$\n",
    "\\begin{aligned}\n",
    "\\Pi_i (q_{-i}, q_i) = (a - q_{-i} - q_i - c)q_i\\\\\n",
    "\\end{aligned}\n",
    "$$"
   ]
  },
  {
   "attachments": {},
   "cell_type": "markdown",
   "metadata": {},
   "source": [
    "The method to solve it can be described as follows:\n",
    "\n",
    "1. Write up the profit functions and take the derivative with respect to one's quantity.\n",
    "\n",
    "2. From the first order conditions (FOCs), find the Best-Response (BR) functions given the quantity chosen by the other player.\n",
    "\n",
    "3. Substitute in the BR quantity for the other player to solve for the equilibrium quantities."
   ]
  },
  {
   "attachments": {},
   "cell_type": "markdown",
   "metadata": {},
   "source": [
    "## 2. Analytical Solution"
   ]
  },
  {
   "attachments": {},
   "cell_type": "markdown",
   "metadata": {},
   "source": [
    "We start by solving the model analytically. \n",
    "\n",
    "First, we write up the parameters and profit functions."
   ]
  },
  {
   "cell_type": "code",
   "execution_count": null,
   "metadata": {},
   "outputs": [],
   "source": [
    "# Declare the symbols\n",
    "a, c, q1, q2 = sm.symbols('a c q_1 q_2')\n",
    "Q = q1 + q2\n",
    "\n",
    "# Profit functions for firm 1 and firm 2\n",
    "profit1 = q1*(a - Q - c)\n",
    "profit2 = q2*(a - Q - c)\n",
    "\n",
    "# Print the profit functions\n",
    "display(sm.Eq(sm.symbols('profit1'), profit1))\n",
    "display(sm.Eq(sm.symbols('profit2'), profit2))"
   ]
  },
  {
   "attachments": {},
   "cell_type": "markdown",
   "metadata": {},
   "source": [
    "Second, we derive the first order conditions (FOC) of the profit function given the production for the firm. "
   ]
  },
  {
   "cell_type": "code",
   "execution_count": null,
   "metadata": {},
   "outputs": [],
   "source": [
    "# Take the FOC of each firm's profit function\n",
    "foc1 = sm.diff(profit1, q1)\n",
    "foc2 = sm.diff(profit2, q2)\n",
    "\n",
    "# Print the profit functions\n",
    "display(sm.Eq(sm.symbols('FOC1'), foc1))\n",
    "display(sm.Eq(sm.symbols('FOC2'), foc2))"
   ]
  },
  {
   "attachments": {},
   "cell_type": "markdown",
   "metadata": {},
   "source": [
    "Then we set FOCs equal to 0 and solve for the quantity of the firm to get the firm's Best Response (BR) function. "
   ]
  },
  {
   "cell_type": "code",
   "execution_count": null,
   "metadata": {},
   "outputs": [],
   "source": [
    "# Solve these to find each firm's best response function\n",
    "sol1 = sm.solve(sm.Eq(foc1, 0), q1)\n",
    "sol2 = sm.solve(sm.Eq(foc2, 0), q2)\n",
    "\n",
    "# Print the profit functions\n",
    "display(sm.Eq(sm.symbols('q1'), sol1[0].together() ))\n",
    "display(sm.Eq(sm.symbols('q2'), sol2[0].together() ))"
   ]
  },
  {
   "attachments": {},
   "cell_type": "markdown",
   "metadata": {},
   "source": [
    "This is the firm’s BR function given the quantity chosen by the other firm.\n",
    "\n",
    "To find the equilbrium quantity $(q_1^*, q_2^*)$ we solve the BR functions iteratively. The Cournot equilibrium for firm 1, $q_1^*$ is a solution of firm 1's BR function when $q_2 = q_2^*$, and $q_2^*$ is a solution of firm 2's reaction function when $q_1 = q_1^*$.\n"
   ]
  },
  {
   "cell_type": "code",
   "execution_count": null,
   "metadata": {},
   "outputs": [],
   "source": [
    "# Solving the equilibrium\n",
    "cournot_eqm = sm.solve((sol1[0] - q1, sol2[0] - q2), (q1, q2))\n",
    "\n",
    "# Define new symbols for the solutions\n",
    "q_i = sm.symbols('q_i^*')\n",
    "\n",
    "# Print the solutions nicely\n",
    "display(sm.Eq(q_i, cournot_eqm[q1].together()))"
   ]
  },
  {
   "attachments": {},
   "cell_type": "markdown",
   "metadata": {},
   "source": [
    "## 3.Numerical Solution"
   ]
  },
  {
   "attachments": {},
   "cell_type": "markdown",
   "metadata": {},
   "source": [
    "In the next section, we'll be solving the model numerically, maintaining the assumption of two firms competing in the market. By solving the model numerically, we can gain a more nuanced understanding of how the firms' output decisions and market outcomes are shaped by the underlying parameters of the model. "
   ]
  },
  {
   "attachments": {},
   "cell_type": "markdown",
   "metadata": {},
   "source": [
    "**3.1 Defining the model**"
   ]
  },
  {
   "attachments": {},
   "cell_type": "markdown",
   "metadata": {},
   "source": [
    "In the upcoming code section, we'll be using a Python package we've developed, known as modelproject. This package houses our Cournot competition model, referred to as Cournotmodel.\n",
    "\n",
    "The Cournot model implements the Cournot competition model for a duopoly. It provides methods for determining each firm's best response strategy, solving for market equilibrium, calculating production levels, and visualizing the data.\n",
    "We set the parameters equal\n",
    "\n",
    "$$\n",
    "\\begin{aligned}\n",
    "a &= 11\\\\\n",
    "b &=  1\\\\\n",
    "c &=  2\n",
    "\\end{aligned}\n",
    "$$\n",
    "\n",
    "The parameter 'a' is the market demand intercept, 'b' is the market demand slope and 'c' is the cost per unit produced. "
   ]
  },
  {
   "cell_type": "code",
   "execution_count": null,
   "metadata": {},
   "outputs": [],
   "source": [
    "# Importing the Cournotmodel class from modelproject module\n",
    "from modelproject import Cournotmodel\n",
    "\n",
    "# Set the parameters\n",
    "a = 11  \n",
    "b = 1   \n",
    "c = 2  \n",
    "\n",
    "# Create a Cournotmodel with given parameters a, b, and c\n",
    "model = Cournotmodel(a, b, c)  "
   ]
  },
  {
   "attachments": {},
   "cell_type": "markdown",
   "metadata": {},
   "source": [
    "**3.2 Equilibrium, BR functions and Profit Function**"
   ]
  },
  {
   "attachments": {},
   "cell_type": "markdown",
   "metadata": {},
   "source": [
    "Next we find the Cournot/Nash equilibrium quantities, price, and profit for a Cournot competition model using an initial guess of quantities for two firms."
   ]
  },
  {
   "cell_type": "code",
   "execution_count": null,
   "metadata": {},
   "outputs": [],
   "source": [
    "# Set up the initial guess for the quantities produced by firm 1 and firm 2\n",
    "initial_guess = [1, 1]  \n",
    "\n",
    "# Call the 'find_equilibrium' method of the  'Cournotmodel' using the initial guess as an argument.\n",
    "q_star, p_star, pi_star = model.find_equilibrium(initial_guess)\n",
    "\n",
    "# Prepare a multi-line string with the equilibrium information. It includes Nash Equilibrium quantities, \n",
    "# price at the Nash Equilibrium and profit at the Nash Equilibrium.\n",
    "equilibrium_info = f\"\"\"\n",
    "The Cournot/Nash Equilibrium is:\n",
    "    $q_1^* = q_2^*$ = {q_star:.2f}\n",
    "\n",
    "The price at the Nash equilibrium is:\n",
    "    $p^*$ = {p_star:.2f}\n",
    "\n",
    "The profit at the Nash equilibrium is:\n",
    "    $\\Pi$ = {pi_star:.2f}\n",
    "\"\"\"\n",
    "\n",
    "# Display the equilibrium information \n",
    "display(Markdown(equilibrium_info))"
   ]
  },
  {
   "attachments": {},
   "cell_type": "markdown",
   "metadata": {},
   "source": [
    "In a duopoly market, we find that the equilibrium quantities amount to 3 units per firm, with the market price standing at 5. This implies that the two firms produce the same quantity of a good as they both operate under the same profit function. Each firm is expected to achieve an equal profit, which in this case, amounts to 3 units."
   ]
  },
  {
   "attachments": {},
   "cell_type": "markdown",
   "metadata": {},
   "source": [
    "We use the best response functions for firms 1 and 2 to plot the intersection, representing the Cournot Equilibrium. The best response function is determined by the quantity produced by the other firm. Therefore, we first identify firm 2's best response function, then incorporate it into firm 1's response function to determine the equilibrium quantities.\n",
    "\n",
    "We do so by first creating an array of numbers from 0 to 10 with an interval of 0.1, which represents different production levels for firm 1. Then, using these production levels, it calculates the production levels for both firm 1 and firm 2 at these points, taking firm reactions into consideration. Finally, it uses these calculated production levels to create a scatter plot visualizing the relationship between the production levels of the two firms."
   ]
  },
  {
   "cell_type": "code",
   "execution_count": null,
   "metadata": {},
   "outputs": [],
   "source": [
    "# Create an array representing possible production levels for Firm 1\n",
    "production_level_f1 = np.arange(0, 10, 0.1)\n",
    "\n",
    "# Calculate production levels for both Firm 1 and Firm 2 at these points,\n",
    "# taking into account the reaction functions of the firms.\n",
    "production_level_f1_2, production_level_f2 = model.calculate_production_levels(production_level_f1)\n",
    "\n",
    "# Use the calculated production levels to create a plot of the relationship between the production levels of the two firms.\n",
    "model.plot_scatter(production_level_f1_2, production_level_f2)"
   ]
  },
  {
   "attachments": {},
   "cell_type": "markdown",
   "metadata": {},
   "source": [
    "From the graph we see that the intersection of the BR functions is at (3, 3), which is the equilibrium quantities. This means that the two firms will produce 3 items each. The BR functions are crossing the other firms output axis equal 4.5. It means that the firm will produce 4.5 items when the other firm is not producing any. This impliesd that the total output of the market is smaller for a monopolist than duopoly market. \n",
    "\n",
    "Next we want to plot the profit function. As the firms are identical we only do it for firm 2. The used method provides a visual representation of how the firm's profit changes with different production quantities. "
   ]
  },
  {
   "cell_type": "code",
   "execution_count": null,
   "metadata": {},
   "outputs": [],
   "source": [
    "# Generates a 3D plot of the profit functions of firm 2 given their production quantities.\n",
    "model.plot_profit_functions()"
   ]
  },
  {
   "attachments": {},
   "cell_type": "markdown",
   "metadata": {},
   "source": [
    "The plot above visualizes the profit function for firm 2. Given the identical firms in this model, the profit function for firm 1 would also mirror this same plot. As depicted, when firm 1's production level is zero, firm 2's profit equals zero as well. Conversely, when firm 1 is not producing, firm 2 ramps up production to 4.5 units, achieving a profit around the 20.\n",
    "\n",
    "The red dot symbolizes the Nash Equilibrium point, where both firms reach their optimal production quantities. This visualization therefore provides a significant perspective into the dynamics of strategic interactions and decision-making within the scope of the Cournot competition model."
   ]
  },
  {
   "attachments": {},
   "cell_type": "markdown",
   "metadata": {},
   "source": [
    "# 4. Different parameter values"
   ]
  },
  {
   "attachments": {},
   "cell_type": "markdown",
   "metadata": {},
   "source": [
    "In this section, we explore the impact of different parameter values on the Cournot model and its equilibrium. By varying the values of the parameters a, b, and c, we can observe how these changes affect the market and the equilibrium quantities produced by the firms. This enables us to assess the sensitivity of the model to parameter variations.\n",
    "\n",
    "The following code provides an interactive visualization of the Cournot model, allowing users to explore how different parameter values affect the demand curve and equilibrium point. First we define and calculate the equilibrium price and quantity. The update_plot function is used to interact with the cournot_model function. It takes the slider values for a, b, and c as input and updates the plot accordingly. The interact function creates sliders for the parameters and connects them to the update_plot function, allowing the user to dynamically adjust the parameter values and see the corresponding changes in the plot."
   ]
  },
  {
   "cell_type": "code",
   "execution_count": null,
   "metadata": {},
   "outputs": [],
   "source": [
    "# Calculate the equilibrium quantity and price\n",
    "def cournot(N, a, b, c):\n",
    "    q = (a - c)/(N + 1) * b  \n",
    "    p = a - N * q  \n",
    "    return p, q\n",
    "\n",
    "# Set up the model with number of firms, the equilibrium price and quantity and demand curve\n",
    "def cournot_model(a, b, c):\n",
    "    N = 2  \n",
    "    p, q = cournot(N, a, b, c)  \n",
    "\n",
    "    x = np.linspace(0, a, 100) \n",
    "    demand = a - N * x \n",
    "\n",
    "    # Create a Plotly figure with subplots\n",
    "    fig = go.Figure()  \n",
    "    fig.add_trace(go.Scatter(x=x, y=demand, name='Demand'))  \n",
    "    fig.add_trace(go.Scatter(x=[q], y=[p], mode='markers', name='Equilibrium'))  \n",
    "\n",
    "    # Set the layout for the figure - title and labels, hover and axes\n",
    "    fig.update_layout(\n",
    "        title=f'{N} firms, a={a}, b={b}, c={c}',  \n",
    "        xaxis_title='Quantity',  \n",
    "        yaxis_title='Price',  \n",
    "        hovermode='closest'  \n",
    "    )\n",
    "\n",
    "    # Format hover label values to two decimal places\n",
    "    fig.update_traces(hovertemplate='Price: %{y:.2f}<br>Quantity: %{x:.2f}')\n",
    "\n",
    "    return fig\n",
    "\n",
    "# Create sliders for a, b, and c\n",
    "a_slider = FloatSlider(min=0, max=20, step=1, value=11, description='a:', layout=Layout(width='50%'))\n",
    "b_slider = FloatSlider(min=0, max=5, step=0.1, value=1, description='b:', layout=Layout(width='50%'))\n",
    "c_slider = FloatSlider(min=0, max=5, step=0.1, value=2, description='c:', layout=Layout(width='50%'))\n",
    "\n",
    "# Use the sliders to interact with the cournot_model function and update the plot based on the slider values\n",
    "def update_plot(a, b, c):\n",
    "    fig = cournot_model(a, b, c)  \n",
    "    fig.show()\n",
    "\n",
    "interact(update_plot, a=a_slider, b=b_slider, c=c_slider)\n"
   ]
  },
  {
   "attachments": {},
   "cell_type": "markdown",
   "metadata": {},
   "source": [
    "The parameter a is the demand intercept in the market. So a high value a implies a high demand for the good in the market. \n",
    "\n",
    "The parameter b is the slope of the demand. For b going toward infinity, the dependence on the other firm's price on one's own production increases. A high value of b therefore means a the demand curve becomes steeper, and a larger decrease in the market price occurs for each unit increase in the quantity produced. This has the effect of reducing the quantity of the good that each firm produces in equilibrium. \n",
    "\n",
    "The parameter c is the cost of production for the firm. It is the cost for the firm to produce one more unit. If c increases, the marginal cost of production for the firm increases, which makes it more expensive for firms to produce each unit of output. \n",
    "\n",
    "Overall, we see that varying the parameter values has an impact on the resulting equilibrium quantities produced by the firms."
   ]
  },
  {
   "attachments": {},
   "cell_type": "markdown",
   "metadata": {},
   "source": [
    "# 5. Different number of firms in the market"
   ]
  },
  {
   "attachments": {},
   "cell_type": "markdown",
   "metadata": {},
   "source": [
    "To analyze the impact of having more firms in the market, we can modify the code to consider a variable number of firms instead of just two. By increasing the number of firms, we can observe how competition and market outcomes change.\n",
    "\n",
    "We uses the class 'Firms'. It creates an instance of the Firms class with parameter baseline values a=11, b=1, and c=2. Finally, it calls the plot_firm_convergence() method of the Firms instance to generate a plot that illustrates the convergence of profits and prices as the number of firms in the market increases."
   ]
  },
  {
   "cell_type": "code",
   "execution_count": null,
   "metadata": {},
   "outputs": [],
   "source": [
    "from modelproject import Firms\n",
    "\n",
    "# Instantiate the model with a = 11, b = 1 and c = 2\n",
    "model = Firms(a=11, b=1, c=2)\n",
    "\n",
    "# Call the new plot function\n",
    "model.plot_firm_convergence()"
   ]
  },
  {
   "attachments": {},
   "cell_type": "markdown",
   "metadata": {},
   "source": [
    "When more firms are present in the market, the dynamics of competition change. As the number of firms increases, the competition intensifies, leading to potential shifts in equilibrium quantities, prices, and profits.\n",
    "\n",
    "If the number of firms would increase further towards infinity, the equilibrium price will go towards the cost\n",
    "\n",
    "$$\n",
    "\\begin{aligned}\n",
    "p^* \\rightarrow c\n",
    "\\end{aligned}\n",
    "$$\n",
    "\n",
    "and the profit will go towards 0\n",
    "\n",
    "$$\n",
    "\\begin{aligned}\n",
    "\\pi \\rightarrow 0\n",
    "\\end{aligned}\n",
    "$$\n",
    "\n",
    "This corresponds to the results that we would get under perfect competition. The price will be pushed down to the marginal cost, the quantity will increase, the profit will go towards 0 and consumer surplus will increase. Exactly as under perfect competition. "
   ]
  },
  {
   "attachments": {},
   "cell_type": "markdown",
   "metadata": {},
   "source": [
    "# 6. Conclusion"
   ]
  },
  {
   "attachments": {},
   "cell_type": "markdown",
   "metadata": {},
   "source": [
    "We have looked a Cournot model with different parameter values and different number of firms in the market.\n",
    "\n",
    "When having two firms in the market we got a equilibrium price equal 5.00 and equilbrium quantity equal 3.00. When increasing tbe number of firms in the market the equilibrium price decreased but the total quantity of the market increased. \n",
    "\n",
    "By increasing the number of firms in the market further, the price will go towards the marginal cost, the quantity will increase and the profit will go towards 0. "
   ]
  }
 ],
 "metadata": {
  "kernelspec": {
   "display_name": "base",
   "language": "python",
   "name": "python3"
  },
  "language_info": {
   "codemirror_mode": {
    "name": "ipython",
    "version": 3
   },
   "file_extension": ".py",
   "mimetype": "text/x-python",
   "name": "python",
   "nbconvert_exporter": "python",
   "pygments_lexer": "ipython3",
   "version": "3.9.13"
  },
  "toc-autonumbering": true,
  "vscode": {
   "interpreter": {
    "hash": "153d7f48fc2b2cac0ae68a71f7037e0d68cd6d9af7e2eb20d1cf2d67faf3bb7a"
   }
  }
 },
 "nbformat": 4,
 "nbformat_minor": 4
}
