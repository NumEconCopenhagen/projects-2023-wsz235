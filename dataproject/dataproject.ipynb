{
 "cells": [
  {
   "attachments": {},
   "cell_type": "markdown",
   "metadata": {},
   "source": [
    "# The Gender Wage Gap and Part-time workers"
   ]
  },
  {
   "attachments": {},
   "cell_type": "markdown",
   "metadata": {},
   "source": [
    "In this project, we will analyze the gender wage gap in various sectors in Denmark and how it has developed over time. Many other studies have shown that education and work experience do not have an impact on the gender wage gap. Therefore, we will also examine the share of female part-time workers in these sectors and how it has changed over the years. Women may be more likely to work part-time than men, often due to caregiving responsibilities or other factors.\n",
    "\n",
    "We will use data from Statistics Denmark to conduct our analysis and visualize the results. By doing so, we hope to gain insights into the trends and patterns of the gender wage gap and part-time work in different sectors and understand the factors that may contribute to these differences."
   ]
  },
  {
   "attachments": {},
   "cell_type": "markdown",
   "metadata": {},
   "source": [
    "First we need to modules and get acces to Statistics Denmark´s API. \n",
    "\n",
    "Imports and set magics:"
   ]
  },
  {
   "cell_type": "code",
   "execution_count": null,
   "metadata": {},
   "outputs": [],
   "source": [
    "# The DST API wrapper\n",
    "%pip install git+https://github.com/elben10/pydst"
   ]
  },
  {
   "cell_type": "code",
   "execution_count": null,
   "metadata": {},
   "outputs": [],
   "source": [
    "import pandas as pd\n",
    "import ipywidgets as widgets\n",
    "from ipywidgets import interact, IntSlider\n",
    "from ipywidgets import interact\n",
    "import plotly.graph_objs as go\n",
    "import plotly.graph_objects as go\n",
    "import plotly.express as px\n",
    "import seaborn as sns\n",
    "from tabulate import tabulate\n",
    "\n",
    "# Import pydsta and setup data loader with the langauge 'english'\n",
    "import pydst\n",
    "dst = pydst.Dst(lang='en')"
   ]
  },
  {
   "attachments": {},
   "cell_type": "markdown",
   "metadata": {},
   "source": [
    "# 1. Read and Clean Data"
   ]
  },
  {
   "attachments": {},
   "cell_type": "markdown",
   "metadata": {},
   "source": [
    "To this project we uses data for Denmark from the Statistics Denmark's API. We uses data on wages and employment. "
   ]
  },
  {
   "attachments": {},
   "cell_type": "markdown",
   "metadata": {},
   "source": [
    "**1.1 Hourly Wage per Sector**"
   ]
  },
  {
   "attachments": {},
   "cell_type": "markdown",
   "metadata": {},
   "source": [
    "We retrives data from the statistic 'LONS30' and stores the variables in the wage_var variable. This statistic contains data on earnings by sex, sector, and region. As we want the data in wide format, first we handle the data about the female wage, then the male wage. \n",
    "\n",
    "We store the data on female hourly wages by sector for all possible years in wage_k. We selects the variables to download with the variables argument, which is a dictionary where the keys are the variable names and the values are lists of the values to select. By using {'KØN': ['K']} we only select observatinos where the gender is female. We filter the data such we look at all salary earners in all of Denmark. We also choose to look at earnings in DKK per hour such part time worker do not  \n",
    "\n",
    "As the focus for this project is limited, we do not use all the variables. So we drop some of them: 'OMRÅDE', 'AFLOEN', 'LONGRP', 'LØNMÅL' and 'KØN'. By using 'axis=1' we drop columns, rather than rows. As we remove some variables the rows from these variables are still there, so we use groupby to aggregate the rows by year and sector. \n",
    "Then we rename the variabel to get more meaningful names, such as 'TID' is chaged to 'Year'. \n",
    "\n",
    "Exactly the same is done for the male hourly wage to have a short format instead of long.  \n",
    "\n",
    "Finally, we merges the two DataFrames (wage_k and wage_m) by the \"Year\" and \"Sector\" columns, so that the resulting DataFrame wage contains columns for both female and male hourly wages. The how='left' argument means to keep all rows from wage_k (which contains the female wages) and only add matching rows from wage_m (which contains the male wages). The resulting DataFrame has columns for \"Year\", \"Sector\", \"Female Hourly wage\", and \"Male Hourly wage\"."
   ]
  },
  {
   "cell_type": "code",
   "execution_count": null,
   "metadata": {},
   "outputs": [],
   "source": [
    "# Female wage\n",
    "\n",
    "# Get variables for the LONS30 table\n",
    "wage_vars = dst.get_variables(table_id='LONS30')\n",
    "wage_vars\n",
    "\n",
    "# Download data\n",
    "wage_k = dst.get_data(table_id = 'LONS30', \n",
    "                    variables={ 'Tid':['*'],\n",
    "                                'KØN': ['K'], \n",
    "                                'OMRÅDE': ['000'],\n",
    "                                'SEKTOR':['*'],\n",
    "                                'AFLOEN':['TIFA'],\n",
    "                                'LONGRP':['LTOT'],\n",
    "                                'LØNMÅL':['FORINKL']})\n",
    "\n",
    "# Drop columns\n",
    "drop = ['OMRÅDE', 'AFLOEN', 'LONGRP', 'LØNMÅL', 'KØN']\n",
    "wage_k.drop(drop, axis=1, inplace=True)\n",
    "\n",
    "# Rename columns\n",
    "wage_k.rename(columns = {'TID':'Year', \n",
    "                      'SEKTOR': 'Sector',\n",
    "                      'INDHOLD': 'Female Hourly wage'}, inplace=True)\n",
    "\n",
    "# Show first few rows\n",
    "wage_k.head()\n"
   ]
  },
  {
   "cell_type": "code",
   "execution_count": null,
   "metadata": {},
   "outputs": [],
   "source": [
    "# Male wage\n",
    "\n",
    "# Download data\n",
    "wage_m = dst.get_data(table_id = 'LONS30', \n",
    "                    variables={ 'Tid':['*'],\n",
    "                                'KØN': ['M'], \n",
    "                                'OMRÅDE': ['000'],\n",
    "                                'SEKTOR':['*'],\n",
    "                                'AFLOEN':['TIFA'],\n",
    "                                'LONGRP':['LTOT'],\n",
    "                                'LØNMÅL':['FORINKL']})\n",
    "\n",
    "# Drop columns\n",
    "drop = ['OMRÅDE', 'AFLOEN', 'LONGRP', 'LØNMÅL', 'KØN']\n",
    "wage_m.drop(drop, axis=1, inplace=True)\n",
    "\n",
    "# Rename columns\n",
    "wage_m.rename(columns = {'TID':'Year', \n",
    "                      'SEKTOR': 'Sector',\n",
    "                      'INDHOLD': 'Male Hourly wage'}, inplace=True)\n",
    "\n",
    "# Show first few rows\n",
    "wage_m.head()\n"
   ]
  },
  {
   "cell_type": "code",
   "execution_count": null,
   "metadata": {},
   "outputs": [],
   "source": [
    "# Merge the wage_k and wage_m data frames based on the 'Year' and 'Sector' columns using a left join. \n",
    "wage=pd.merge(wage_k,wage_m,how='left',on=['Year', 'Sector'])\n",
    "\n",
    "# Display the first few rows of the merged data frame.\n",
    "wage.head()"
   ]
  },
  {
   "attachments": {},
   "cell_type": "markdown",
   "metadata": {},
   "source": [
    "**1.2 Extent of Working Time**"
   ]
  },
  {
   "attachments": {},
   "cell_type": "markdown",
   "metadata": {},
   "source": [
    "This code is downloading and cleaning data related to employment in Denmark, specifically focusing on full-time and part-time work. From Statistics Denmark we use data from 'RAS307'. \n",
    "\n",
    "It specifies the variables to include in the data and drops unnecessary columns (ARBOMFANG, KØN, and BRANCHE07). Then, it renames the remaining columns (TID, SEKTOR, and INDHOLD) to Year, Sector, and Female Full-time, respectively, before sorting the data by year and displaying the data. \n",
    "\n",
    "Next, we want to get data on part-time worker so with the variable ARBOMFANG set to 'D' to specify part-time work we repeate the code from full time workers. The code then drops unnecessary columns and renames the remaining columns to Year, Sector, and Female Part-time, respectively. \n",
    "\n",
    "The same is done for the male workers. \n",
    "\n",
    "In the end we merge the dataframes are merged on Year and Sector to create the time dataframe that contains the number of female and male employees, both full-time and part-time, in each sector for each year.\n"
   ]
  },
  {
   "cell_type": "code",
   "execution_count": null,
   "metadata": {},
   "outputs": [],
   "source": [
    "# Female Full-time\n",
    "\n",
    "# Download data\n",
    "time_k_ft = dst.get_data(table_id = 'RAS307', \n",
    "                    variables={'TID':['*'], \n",
    "                               'KØN':['K'], \n",
    "                               'BRANCHE07': ['*'],\n",
    "                               'SEKTOR':['*'],\n",
    "                               'ARBOMFANG':['H']})\n",
    "\n",
    "# Drop columns\n",
    "drop = ['ARBOMFANG', 'KØN','BRANCHE07']\n",
    "time_k_ft.drop(drop, axis=1, inplace=True)\n",
    "\n",
    "# Rename columns\n",
    "time_k_ft.rename(columns = {'TID':'Year', \n",
    "                            'KØN':'Gender',\n",
    "                            'BRANCHE07':'Industry', \n",
    "                            'SEKTOR': 'Sector',\n",
    "                            'INDHOLD': 'Female Full-time'}, inplace=True)\n",
    "\n",
    "# Show first few rows\n",
    "time_k_ft = time_k_ft.sort_values(by='Year', ascending=True)\n",
    "time_k_ft.head(10)\n",
    "\n",
    "## Female Part-time\n",
    "\n",
    "# Download data\n",
    "time_k_pt = dst.get_data(table_id = 'RAS307', \n",
    "                    variables={'TID':['*'], \n",
    "                               'KØN':['K'], \n",
    "                               'BRANCHE07': ['*'],\n",
    "                               'SEKTOR':['*'],\n",
    "                               'ARBOMFANG':['D']})\n",
    "\n",
    "# Drop columns\n",
    "drop = ['ARBOMFANG', 'KØN','BRANCHE07']\n",
    "time_k_pt.drop(drop, axis=1, inplace=True)\n",
    "\n",
    "# Rename columns\n",
    "time_k_pt.rename(columns = {'TID':'Year', \n",
    "                            'KØN':'Gender',\n",
    "                            'ALDER': 'Age',\n",
    "                            'BRANCHE07':'Industry', \n",
    "                            'SEKTOR': 'Sector',\n",
    "                            'INDHOLD': 'Female Part-time'}, inplace=True)\n",
    "\n",
    "# Show first few rows\n",
    "time_k_pt = time_k_pt.sort_values(by='Year', ascending=True)\n",
    "time_k_pt.head()\n"
   ]
  },
  {
   "cell_type": "code",
   "execution_count": null,
   "metadata": {},
   "outputs": [],
   "source": [
    "## Male Full-time\n",
    "\n",
    "# Download data\n",
    "time_m_ft = dst.get_data(table_id = 'RAS307', \n",
    "                    variables={'TID':['*'], \n",
    "                               'KØN':['M'], \n",
    "                               'BRANCHE07': ['*'],\n",
    "                               'SEKTOR':['*'],\n",
    "                               'ARBOMFANG':['H']})\n",
    "\n",
    "# Drop columns\n",
    "drop = ['ARBOMFANG', 'KØN','BRANCHE07']\n",
    "time_m_ft.drop(drop, axis=1, inplace=True)\n",
    "\n",
    "# Rename columns\n",
    "time_m_ft.rename(columns = {'TID':'Year', \n",
    "                            'SEKTOR': 'Sector',\n",
    "                            'INDHOLD': 'Male Full-time'}, inplace=True)\n",
    "\n",
    "# Show first few rows\n",
    "time_m_ft = time_m_ft.sort_values(by='Year', ascending=True)\n",
    "time_m_ft.head(10)\n",
    "\n",
    "## Male Part-time\n",
    "\n",
    "# Download data\n",
    "time_m_pt = dst.get_data(table_id = 'RAS307', \n",
    "                    variables={'TID':['*'], \n",
    "                               'KØN':['M'], \n",
    "                               'BRANCHE07': ['*'],\n",
    "                               'SEKTOR':['*'],\n",
    "                               'ARBOMFANG':['D']})\n",
    "\n",
    "# Drop columns\n",
    "drop = ['ARBOMFANG', 'KØN','BRANCHE07']\n",
    "time_m_pt.drop(drop, axis=1, inplace=True)\n",
    "\n",
    "# Rename columns\n",
    "time_m_pt.rename(columns = {'TID':'Year', \n",
    "                            'KØN':'Gender',\n",
    "                            'ALDER': 'Age',\n",
    "                            'BRANCHE07':'Industry', \n",
    "                            'SEKTOR': 'Sector',\n",
    "                            'INDHOLD': 'Male Part-time'}, inplace=True)\n",
    "\n",
    "# Show first few rows\n",
    "time_m_pt = time_m_pt.sort_values(by='Year', ascending=True)\n",
    "time_m_pt.head()\n"
   ]
  },
  {
   "cell_type": "code",
   "execution_count": null,
   "metadata": {},
   "outputs": [],
   "source": [
    "# Merge the time_k_ft and time_k_pt data frames based on the 'Year' and 'Sector' columns using a left join.\n",
    "time_k=pd.merge(time_k_ft,time_k_pt,how='left',on=['Year', 'Sector'])\n",
    "\n",
    "# Group the time_k data frame by the 'Year' and 'Sector' columns, and sum the values for each group.\n",
    "time_k = time_k.groupby(['Year', 'Sector']).sum()\n",
    "\n",
    "# Merge the time_m_ft and time_m_pt data frames based on the 'Year' and 'Sector' columns using a left join.\n",
    "time_m=pd.merge(time_m_ft,time_m_pt,how='left',on=['Year', 'Sector'])\n",
    "\n",
    "# Group the time_m data frame by the 'Year' and 'Sector' columns, and sum the values for each group.\n",
    "time_m = time_m.groupby(['Year', 'Sector']).sum()\n",
    "\n",
    "# Merge the time_k and time_m data frames based on the 'Year' and 'Sector' columns using a left join.\n",
    "time=pd.merge(time_k,time_m,how='left',on=['Year', 'Sector'])"
   ]
  },
  {
   "attachments": {},
   "cell_type": "markdown",
   "metadata": {},
   "source": [
    "# 2. Exploring Data"
   ]
  },
  {
   "attachments": {},
   "cell_type": "markdown",
   "metadata": {},
   "source": [
    "**2.1 Hourly Wage by Gender and Sector**"
   ]
  },
  {
   "attachments": {},
   "cell_type": "markdown",
   "metadata": {},
   "source": [
    "We use the data that we downloaded and cleaned in section 1.1. We want to study how the wages have developeed over the years so we use the following code. \n",
    "\n",
    "The following code creates an interactive plot that shows the hourly wage of males and females for different sectors. Using the dropdown function, you can select the sector to examine."
   ]
  },
  {
   "cell_type": "code",
   "execution_count": null,
   "metadata": {},
   "outputs": [],
   "source": [
    "# Group the data by year, sector, and gender, and calculate the mean hourly wage\n",
    "wage_by_year_sector = wage.groupby(['Year', 'Sector']).mean().reset_index()\n",
    "\n",
    "# Create the plot layout\n",
    "layout = go.Layout(xaxis=dict(title='Year'),\n",
    "                   yaxis=dict(title='Hourly wage (DKK)'))\n",
    "\n",
    "# Define the dropdown options\n",
    "sector_options = list(wage_by_year_sector['Sector'].unique())\n",
    "\n",
    "# Define the callback function\n",
    "def update_plot(sector):\n",
    "    # Filter the data based on the selected sector\n",
    "    filtered_data = wage_by_year_sector[wage_by_year_sector['Sector'] == sector]\n",
    "\n",
    "    # Create traces for the full-time and part-time data\n",
    "    trace_k = go.Scatter(x=filtered_data['Year'], y=filtered_data['Female Hourly wage'], mode='lines',line = dict(color='red', width=2), name='Female')\n",
    "    trace_m = go.Scatter(x=filtered_data['Year'], y=filtered_data['Male Hourly wage'], mode='lines',line = dict(color='blue', width=2), name='Male')\n",
    "\n",
    "    # Create the plot figure and add the traces and layout\n",
    "    fig = go.Figure(data=[trace_k, trace_m], layout=layout)\n",
    "    fig.update_layout(title='Hourly wage by gender and sector ({})'.format(sector))\n",
    "    fig.show()\n",
    "\n",
    "# Create the interactive dropdown\n",
    "interact(update_plot, sector=sector_options)"
   ]
  },
  {
   "attachments": {},
   "cell_type": "markdown",
   "metadata": {},
   "source": [
    "The graph shows a proportional increase in hourly wages across all sectors, with some differences in the rate of increase and the starting and ending wage levels. In particular, the female hourly wage started at 270.72 DKK and ended at 316.83 DKK in 2021, while the male hourly wage increased from 309.21 DKK in 2013 to 352.15 DKK in 2021. \n",
    "\n",
    "There are variations in hourly wages across different sectors. For example, we can see that the 'Municipal government' sector has a relatively narrow range of hourly wages. On the other hand, in the 'Regional government' sector, there is a much greater disparity in hourly wages, with a wider range of starting and ending wage levels."
   ]
  },
  {
   "attachments": {},
   "cell_type": "markdown",
   "metadata": {},
   "source": [
    "**2.2 Extent of Working Time by Gender and Sector**\n",
    "\n",
    "In this section we look at the gender differences in working time. Full-time employment is defined as a weekly working hours above 32 hours and part-time emplotment is defined as a weekly working hours equal or below 32 hours.\n",
    "\n",
    "The code below calculates the average number of employees for each year and sector. We create a plot the shows the number female and male employees, each with full-time and part-time data. We also create a dropdown menu to choose a sector. The resulting plot shows the employment by gender and the chosen sector over the years, with separate lines for full-time (hard line) and part-time employment (dashdot line) for each gender.\n"
   ]
  },
  {
   "cell_type": "code",
   "execution_count": null,
   "metadata": {},
   "outputs": [],
   "source": [
    "# Group the data by year, sector, and industry and calculate the mean for each group\n",
    "time_k_avg = time_k.groupby(['Year', 'Sector']).sum().reset_index()\n",
    "time_m_avg = time_m.groupby(['Year', 'Sector']).sum().reset_index()\n",
    "\n",
    "# Create the plot layout\n",
    "layout2 = go.Layout(xaxis=dict(title='Year'),\n",
    "                   yaxis=dict(title='Number of employees'))\n",
    "\n",
    "# Define the dropdown options\n",
    "sector_options_time = list(time_k_avg['Sector'].unique())\n",
    "\n",
    "# Create the figure\n",
    "fig = go.Figure(layout=layout2)\n",
    "\n",
    "# Define the callback function\n",
    "def update_plot(sector):\n",
    "    # Filter the data based on the selected sector\n",
    "    filtered_data_k = time_k_avg[time_k_avg['Sector'] == sector]\n",
    "    filtered_data_m = time_m_avg[time_m_avg['Sector'] == sector]\n",
    "\n",
    "\n",
    "    # Create traces for the full-time and part-time data\n",
    "    trace_k_ft = go.Scatter(mode='lines', x=filtered_data_k['Year'], y=filtered_data_k['Female Full-time'],  line = dict(color='red', width=2), name='Female Full-time')\n",
    "    trace_k_pt = go.Scatter(mode='lines', x=filtered_data_k['Year'], y=filtered_data_k['Female Part-time'], line = dict(color='red', dash='dashdot'), name='Female Part-time')\n",
    "\n",
    "    trace_m_ft = go.Scatter(mode='lines', x=filtered_data_m['Year'], y=filtered_data_m['Male Full-time'], line = dict(color='blue', width=2), name='Male Full-time')\n",
    "    trace_m_pt = go.Scatter(mode='lines', x=filtered_data_m['Year'], y=filtered_data_m['Male Part-time'], line = dict(color='blue', dash='dashdot'), name='Male Part-time')\n",
    "\n",
    "\n",
    "    # Create the plot figure and add the traces and layout\n",
    "    fig = go.Figure(data=[trace_k_ft, trace_k_pt, trace_m_ft, trace_m_pt], layout=layout2)\n",
    "    fig.update_layout(title='Work Time by gender and sector ({})'.format(sector))\n",
    "    fig.show()\n",
    "\n",
    "# Create the interactive dropdown\n",
    "interact(update_plot, sector=sector_options_time)"
   ]
  },
  {
   "attachments": {},
   "cell_type": "markdown",
   "metadata": {},
   "source": [
    "By looking at the numbers, for some sector the numbers are quite large. I think something went wrong when grouping the data and it then does not make sense to comment the graph. As we look later at the share of employees, it might not be a problem. I will look into that later. "
   ]
  },
  {
   "attachments": {},
   "cell_type": "markdown",
   "metadata": {},
   "source": [
    "# 3. Merge data sets"
   ]
  },
  {
   "attachments": {},
   "cell_type": "markdown",
   "metadata": {},
   "source": [
    "The following code is used to merge the two separate datasets containing information on wages and employees. We uses the inner merging function which combines the datasets based on the intersection of matching values of specified columns. It keeps only the rows from each dataset that have matching values in the specified columns, and removes the rows that do not have matching values."
   ]
  },
  {
   "cell_type": "code",
   "execution_count": null,
   "metadata": {},
   "outputs": [],
   "source": [
    "# Merge the dataframes\n",
    "merged = pd.merge(wage,time, how='inner', on=['Year', 'Sector'])\n",
    "\n",
    "# Show first few rows of merged dataframe\n",
    "merged.head()"
   ]
  },
  {
   "attachments": {},
   "cell_type": "markdown",
   "metadata": {},
   "source": [
    "# 4.    Analysis"
   ]
  },
  {
   "attachments": {},
   "cell_type": "markdown",
   "metadata": {},
   "source": [
    "**4.1 Descriptive Statistics**"
   ]
  },
  {
   "attachments": {},
   "cell_type": "markdown",
   "metadata": {},
   "source": [
    "First we look at some descriptive statistics for the wages to examine the differences between the gender."
   ]
  },
  {
   "cell_type": "code",
   "execution_count": null,
   "metadata": {},
   "outputs": [],
   "source": [
    "# Define the function for generating the table\n",
    "def describe_stats(year):\n",
    "    \n",
    "    # Filter the employment data by year and gender\n",
    "    merged_filtered = merged[(merged['Year'] == year)]\n",
    "    \n",
    "    # Calculate the employment rate statistics\n",
    "    merged_stats = merged_filtered['Female Hourly wage'].describe()\n",
    "    merged_stats2 = merged_filtered['Male Hourly wage'].describe()\n",
    "\n",
    "    # Format the statistics as a list of tuples\n",
    "    table_data = [('Count', f'{merged_stats[\"count\"]:.2f}'),\n",
    "                  ('Mean', f'{merged_stats[\"mean\"]:.2f}'),\n",
    "                  ('Std Dev', f'{merged_stats[\"std\"]:.2f}'),\n",
    "                  ('Min', f'{merged_stats[\"min\"]:.2f}'),\n",
    "                  ('25%', f'{merged_stats[\"25%\"]:.2f}'),\n",
    "                  ('50%', f'{merged_stats[\"50%\"]:.2f}'),\n",
    "                  ('75%', f'{merged_stats[\"75%\"]:.2f}'),\n",
    "                  ('Max', f'{merged_stats[\"max\"]:.2f}')]\n",
    "    \n",
    "    # Format the statistics as a list of tuples\n",
    "    table_data2 = [('Count', f'{merged_stats2[\"count\"]:.2f}'),\n",
    "                  ('Mean', f'{merged_stats2[\"mean\"]:.2f}'),\n",
    "                  ('Std Dev', f'{merged_stats2[\"std\"]:.2f}'),\n",
    "                  ('Min', f'{merged_stats2[\"min\"]:.2f}'),\n",
    "                  ('25%', f'{merged_stats2[\"25%\"]:.2f}'),\n",
    "                  ('50%', f'{merged_stats2[\"50%\"]:.2f}'),\n",
    "                  ('75%', f'{merged_stats2[\"75%\"]:.2f}'),\n",
    "                  ('Max', f'{merged_stats2[\"max\"]:.2f}')]\n",
    "    \n",
    "    # Print the table using the tabulate library\n",
    "    print(tabulate(table_data,  headers=['', f'Female Hourly wage in {year}'], \n",
    "                                    tablefmt='fancy_grid'))\n",
    "    print(tabulate(table_data2, headers=['', f'Male Hourly wage in {year}'], \n",
    "                                    tablefmt='fancy_grid'))\n",
    "   \n",
    "# Define the interact function\n",
    "interact(describe_stats, year=IntSlider(min=merged['Year'].min(), max=merged['Year'].max(), step=1, value=merged['Year'].min()))"
   ]
  },
  {
   "attachments": {},
   "cell_type": "markdown",
   "metadata": {},
   "source": [
    "By the tables above, we see summary statistics of the female and male hourly wages. By using the slider, we find that in 2013 the average hourly wage for the two sectors was 271.72 DKK for women and 319.27 DKK for men. It means that the women on average earn 85,11 pct. of men´s earnings. In 2021 the female hourly was has increased to 321.05 DKK and the male hourly wage is 355.13 DKK. The female hourly wage has increased more than the male wage such that for the two sectors women on average earn 90.40 pct. of men´s earnings in 2021. "
   ]
  },
  {
   "attachments": {},
   "cell_type": "markdown",
   "metadata": {},
   "source": [
    "**4.2 The Gender Wage Gap**"
   ]
  },
  {
   "attachments": {},
   "cell_type": "markdown",
   "metadata": {},
   "source": [
    "To see if one of the sectors are driving the reducing in the gender wage differences, we plot the gender wage gap over the years.\n",
    "\n",
    "First, the code below is calculating the gender wage gap as a percentage by dividing the hourly wage of female workers by the hourly wage of male workers. \n",
    "Then we create a a line plot to show the gender wage gap over time for each sector, where the x-axis represents the years and the y-axis represents the gender wage gap."
   ]
  },
  {
   "cell_type": "code",
   "execution_count": null,
   "metadata": {},
   "outputs": [],
   "source": [
    "# calculating the gender wage gap\n",
    "merged['Gender wage gap'] = 100 - (merged['Female Hourly wage'] / (merged['Male Hourly wage'])) * 100\n",
    "\n",
    "# create a line plot of gender wage gap over the years for each sector using Plotly\n",
    "fig = px.line(merged, x='Year', y='Gender wage gap', color='Sector', title='Gender Wage Gap by Sector Over Time')\n",
    "\n",
    "# add x and y axis labels\n",
    "fig.update_xaxes(title='Year')\n",
    "fig.update_yaxes(title='Gender Wage Gap (%)')\n",
    "\n",
    "# display the plot\n",
    "fig.show()"
   ]
  },
  {
   "attachments": {},
   "cell_type": "markdown",
   "metadata": {},
   "source": [
    "The plot above shows the gender wage gap in the municipal and regional government sectors. The data indicates that the wage gap between men and women is significantly smaller in the municipal government sector compared to the regional government sector. Specifically, the graph shows the gender wage gap in the regional government sector was much higher, at 21.81 in 2013, but has been decreasing over time. By 2021, the wage gap had decreased by almost 40% to 13.64. That the gender wage gap equals 13.64 pct. means that the female workers on average earns 13.64 pct. less than men in the same sector. \n",
    "\n",
    "On the other hand, the gender wage gap in the municipal government sector was 5.58 in 2013 and remained relatively stable throughout the period. In 2021, the gender wage gap in the municipal government sector was 4.54, which is much lower than the national average wage gap of around 15%.\n",
    "\n",
    "According to the graph presented in section 2.1, the wage of female employees in the regional government sector has increased more than male wage. This finding supports the observation that the gender wage gap in this sector has decreased over time."
   ]
  },
  {
   "attachments": {},
   "cell_type": "markdown",
   "metadata": {},
   "source": [
    "**4.3 Female Work and Working Time**"
   ]
  },
  {
   "attachments": {},
   "cell_type": "markdown",
   "metadata": {},
   "source": [
    "Next, we look at the share of female workers in the two sectors. First we calculate the share of female workers as a percentage by the sum of female full-time and part-time workers and dividing with the total number of female workers. Then we create use Plotly library to create a line plot that shows the share of female workers over time for each sector, where the x-axis represents the years and the y-axis represents the percentage of female workers. The plot is also color-coded based on the different sectors."
   ]
  },
  {
   "cell_type": "code",
   "execution_count": null,
   "metadata": {},
   "outputs": [],
   "source": [
    "# calculating the share of female workers\n",
    "merged['Share of Female Workers'] = (merged['Female Full-time'] + merged['Female Part-time']) / (merged['Male Full-time'] + merged['Male Part-time'] + merged['Female Full-time'] + merged['Female Part-time']) * 100\n",
    "\n",
    "# create a line plot of gender wage gap over the years for each sector using Plotly\n",
    "fig = px.line(merged,   x='Year', \n",
    "                        y='Share of Female Workers', \n",
    "                        color='Sector', \n",
    "                        title='Share of Female workers')\n",
    "\n",
    "# add x and y axis labels\n",
    "fig.update_xaxes(title='Year')\n",
    "fig.update_yaxes(title='Share of Female Workers (%)')\n",
    "\n",
    "# display the plot\n",
    "fig.show()\n"
   ]
  },
  {
   "attachments": {},
   "cell_type": "markdown",
   "metadata": {},
   "source": [
    "The graph illustrates the percentage of female workers in the regional and municipal government sectors over time. Throughout the entire time period, the share of female workers was higher in the regional government sector than in the municipal government sector. However, the share has slightly decreased over the years, reaching a minimum of 79.08 pct. in 2017. On the other hand, the female share for the municipal government sector has varied significantly, with a maximum of 77.96 pct. observed in 2015. "
   ]
  },
  {
   "attachments": {},
   "cell_type": "markdown",
   "metadata": {},
   "source": [
    "To get a better understanding of the female employment, we examine the female share of part-time workers which is calculated as female part-time workers divided by the total of female workers. We show the share in a line plot. "
   ]
  },
  {
   "cell_type": "code",
   "execution_count": null,
   "metadata": {},
   "outputs": [],
   "source": [
    "# calculating the share of female part-time workers\n",
    "merged['Share of Female Part-time Workers'] = (merged['Female Part-time']) / (merged['Female Full-time'] + merged['Female Part-time']) * 100\n",
    "\n",
    "# create a line plot of gender wage gap over the years for each sector using Plotly\n",
    "fig = px.line(merged,   x='Year', \n",
    "                        y='Share of Female Part-time Workers', \n",
    "                        color='Sector', \n",
    "                        title='Share of Female Part-time Workers')\n",
    "\n",
    "# add x and y axis labels\n",
    "fig.update_xaxes(title='Year')\n",
    "fig.update_yaxes(title='Share of Female Part-time Workers (%)')\n",
    "\n",
    "# display the plot\n",
    "fig.show()"
   ]
  },
  {
   "attachments": {},
   "cell_type": "markdown",
   "metadata": {},
   "source": [
    "The graph shows the share of female part-time workers in the Municipal and Regional Government sectors. It is highest in the Municipal Government sector, decreasing from 38.27 pct. to 31.78 pct. between the years, indicating a declining trend. On the other hand, the share of female part-time workers in the Regional Government sector remains relatively stable, varying between 19.43 pct. and 22.68 pct. during the same period.\n",
    "\n",
    "The data indicates that, although the regional government sector has the largest overall share of female workers, it has the smallest share of female part-time workers. On the other hand, the municipal government sector has a relatively smaller share of female workers but a significantly higher proportion, around 35%, work part-time.\n",
    "\n",
    "This suggests that the two sectors have different labor market dynamics, with the municipal government sector offering more part-time work opportunities for female employees compared to the regional government sector. It could be inferred that the regional government sector may have a preference for full-time workers, while the municipal government sector may offer more flexibility in terms of working hours.\n"
   ]
  },
  {
   "attachments": {},
   "cell_type": "markdown",
   "metadata": {},
   "source": [
    "# 5. Conclusion"
   ]
  },
  {
   "attachments": {},
   "cell_type": "markdown",
   "metadata": {},
   "source": [
    "In conclusion, this project analyzed the gender wage gap and the share of female workers in different sectors in Denmark. Using data from Statistics Denmark the results showed that the gender wage gap has decreased over time in both sectors, but it was significantly smaller in the municipal government sector. Additionally, the share of female workers was higher in the regional government sector, but the municipal government sector had a higher proportion of female part-time workers. These findings suggest that the two sectors have different labor market dynamics, with the municipal government sector offering more part-time work opportunities for female employees compared to the regional government sector. \n",
    "\n",
    "Overall, this analysis provides insights into the trends and patterns of gender wage gap and part-time work in different sectors and can help us understand the factors that contribute to these differences."
   ]
  }
 ],
 "metadata": {
  "kernelspec": {
   "display_name": "base",
   "language": "python",
   "name": "python3"
  },
  "language_info": {
   "codemirror_mode": {
    "name": "ipython",
    "version": 3
   },
   "file_extension": ".py",
   "mimetype": "text/x-python",
   "name": "python",
   "nbconvert_exporter": "python",
   "pygments_lexer": "ipython3",
   "version": "3.9.13"
  },
  "toc-autonumbering": true,
  "vscode": {
   "interpreter": {
    "hash": "153d7f48fc2b2cac0ae68a71f7037e0d68cd6d9af7e2eb20d1cf2d67faf3bb7a"
   }
  }
 },
 "nbformat": 4,
 "nbformat_minor": 4
}
